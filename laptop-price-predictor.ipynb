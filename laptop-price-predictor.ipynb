{
 "cells": [
  {
   "cell_type": "code",
   "execution_count": 1,
   "id": "241b4265",
   "metadata": {
    "_cell_guid": "b1076dfc-b9ad-4769-8c92-a6c4dae69d19",
    "_uuid": "8f2839f25d086af736a60e9eeb907d3b93b6e0e5",
    "execution": {
     "iopub.execute_input": "2022-12-30T00:24:22.711697Z",
     "iopub.status.busy": "2022-12-30T00:24:22.711183Z",
     "iopub.status.idle": "2022-12-30T00:24:23.995653Z",
     "shell.execute_reply": "2022-12-30T00:24:23.994152Z"
    },
    "papermill": {
     "duration": 1.315905,
     "end_time": "2022-12-30T00:24:23.998725",
     "exception": false,
     "start_time": "2022-12-30T00:24:22.682820",
     "status": "completed"
    },
    "tags": []
   },
   "outputs": [
    {
     "name": "stdout",
     "output_type": "stream",
     "text": [
      "/kaggle/input/laptop-price-prediction/laptop_data.csv\n"
     ]
    }
   ],
   "source": [
    "# This Python 3 environment comes with many helpful analytics libraries installed\n",
    "# It is defined by the kaggle/python Docker image: https://github.com/kaggle/docker-python\n",
    "# For example, here's several helpful packages to load\n",
    "\n",
    "import numpy as np # linear algebra\n",
    "import pandas as pd # data processing, CSV file I/O (e.g. pd.read_csv)\n",
    "import seaborn as sns\n",
    "import matplotlib.pyplot as plt\n",
    "\n",
    "# Input data files are available in the read-only \"../input/\" directory\n",
    "# For example, running this (by clicking run or pressing Shift+Enter) will list all files under the input directory\n",
    "\n",
    "import os\n",
    "for dirname, _, filenames in os.walk('/kaggle/input'):\n",
    "    for filename in filenames:\n",
    "        print(os.path.join(dirname, filename))\n",
    "\n",
    "# You can write up to 20GB to the current directory (/kaggle/working/) that gets preserved as output when you create a version using \"Save & Run All\" \n",
    "# You can also write temporary files to /kaggle/temp/, but they won't be saved outside of the current session"
   ]
  },
  {
   "cell_type": "code",
   "execution_count": 2,
   "id": "b14b71ab",
   "metadata": {
    "execution": {
     "iopub.execute_input": "2022-12-30T00:24:24.043023Z",
     "iopub.status.busy": "2022-12-30T00:24:24.042578Z",
     "iopub.status.idle": "2022-12-30T00:24:24.098187Z",
     "shell.execute_reply": "2022-12-30T00:24:24.096809Z"
    },
    "papermill": {
     "duration": 0.082461,
     "end_time": "2022-12-30T00:24:24.101908",
     "exception": false,
     "start_time": "2022-12-30T00:24:24.019447",
     "status": "completed"
    },
    "tags": []
   },
   "outputs": [
    {
     "data": {
      "text/html": [
       "<div>\n",
       "<style scoped>\n",
       "    .dataframe tbody tr th:only-of-type {\n",
       "        vertical-align: middle;\n",
       "    }\n",
       "\n",
       "    .dataframe tbody tr th {\n",
       "        vertical-align: top;\n",
       "    }\n",
       "\n",
       "    .dataframe thead th {\n",
       "        text-align: right;\n",
       "    }\n",
       "</style>\n",
       "<table border=\"1\" class=\"dataframe\">\n",
       "  <thead>\n",
       "    <tr style=\"text-align: right;\">\n",
       "      <th></th>\n",
       "      <th>Unnamed: 0</th>\n",
       "      <th>Company</th>\n",
       "      <th>TypeName</th>\n",
       "      <th>Inches</th>\n",
       "      <th>ScreenResolution</th>\n",
       "      <th>Cpu</th>\n",
       "      <th>Ram</th>\n",
       "      <th>Memory</th>\n",
       "      <th>Gpu</th>\n",
       "      <th>OpSys</th>\n",
       "      <th>Weight</th>\n",
       "      <th>Price</th>\n",
       "    </tr>\n",
       "  </thead>\n",
       "  <tbody>\n",
       "    <tr>\n",
       "      <th>0</th>\n",
       "      <td>0</td>\n",
       "      <td>Apple</td>\n",
       "      <td>Ultrabook</td>\n",
       "      <td>13.3</td>\n",
       "      <td>IPS Panel Retina Display 2560x1600</td>\n",
       "      <td>Intel Core i5 2.3GHz</td>\n",
       "      <td>8GB</td>\n",
       "      <td>128GB SSD</td>\n",
       "      <td>Intel Iris Plus Graphics 640</td>\n",
       "      <td>macOS</td>\n",
       "      <td>1.37kg</td>\n",
       "      <td>71378.6832</td>\n",
       "    </tr>\n",
       "    <tr>\n",
       "      <th>1</th>\n",
       "      <td>1</td>\n",
       "      <td>Apple</td>\n",
       "      <td>Ultrabook</td>\n",
       "      <td>13.3</td>\n",
       "      <td>1440x900</td>\n",
       "      <td>Intel Core i5 1.8GHz</td>\n",
       "      <td>8GB</td>\n",
       "      <td>128GB Flash Storage</td>\n",
       "      <td>Intel HD Graphics 6000</td>\n",
       "      <td>macOS</td>\n",
       "      <td>1.34kg</td>\n",
       "      <td>47895.5232</td>\n",
       "    </tr>\n",
       "    <tr>\n",
       "      <th>2</th>\n",
       "      <td>2</td>\n",
       "      <td>HP</td>\n",
       "      <td>Notebook</td>\n",
       "      <td>15.6</td>\n",
       "      <td>Full HD 1920x1080</td>\n",
       "      <td>Intel Core i5 7200U 2.5GHz</td>\n",
       "      <td>8GB</td>\n",
       "      <td>256GB SSD</td>\n",
       "      <td>Intel HD Graphics 620</td>\n",
       "      <td>No OS</td>\n",
       "      <td>1.86kg</td>\n",
       "      <td>30636.0000</td>\n",
       "    </tr>\n",
       "    <tr>\n",
       "      <th>3</th>\n",
       "      <td>3</td>\n",
       "      <td>Apple</td>\n",
       "      <td>Ultrabook</td>\n",
       "      <td>15.4</td>\n",
       "      <td>IPS Panel Retina Display 2880x1800</td>\n",
       "      <td>Intel Core i7 2.7GHz</td>\n",
       "      <td>16GB</td>\n",
       "      <td>512GB SSD</td>\n",
       "      <td>AMD Radeon Pro 455</td>\n",
       "      <td>macOS</td>\n",
       "      <td>1.83kg</td>\n",
       "      <td>135195.3360</td>\n",
       "    </tr>\n",
       "    <tr>\n",
       "      <th>4</th>\n",
       "      <td>4</td>\n",
       "      <td>Apple</td>\n",
       "      <td>Ultrabook</td>\n",
       "      <td>13.3</td>\n",
       "      <td>IPS Panel Retina Display 2560x1600</td>\n",
       "      <td>Intel Core i5 3.1GHz</td>\n",
       "      <td>8GB</td>\n",
       "      <td>256GB SSD</td>\n",
       "      <td>Intel Iris Plus Graphics 650</td>\n",
       "      <td>macOS</td>\n",
       "      <td>1.37kg</td>\n",
       "      <td>96095.8080</td>\n",
       "    </tr>\n",
       "  </tbody>\n",
       "</table>\n",
       "</div>"
      ],
      "text/plain": [
       "   Unnamed: 0 Company   TypeName  Inches                    ScreenResolution  \\\n",
       "0           0   Apple  Ultrabook    13.3  IPS Panel Retina Display 2560x1600   \n",
       "1           1   Apple  Ultrabook    13.3                            1440x900   \n",
       "2           2      HP   Notebook    15.6                   Full HD 1920x1080   \n",
       "3           3   Apple  Ultrabook    15.4  IPS Panel Retina Display 2880x1800   \n",
       "4           4   Apple  Ultrabook    13.3  IPS Panel Retina Display 2560x1600   \n",
       "\n",
       "                          Cpu   Ram               Memory  \\\n",
       "0        Intel Core i5 2.3GHz   8GB            128GB SSD   \n",
       "1        Intel Core i5 1.8GHz   8GB  128GB Flash Storage   \n",
       "2  Intel Core i5 7200U 2.5GHz   8GB            256GB SSD   \n",
       "3        Intel Core i7 2.7GHz  16GB            512GB SSD   \n",
       "4        Intel Core i5 3.1GHz   8GB            256GB SSD   \n",
       "\n",
       "                            Gpu  OpSys  Weight        Price  \n",
       "0  Intel Iris Plus Graphics 640  macOS  1.37kg   71378.6832  \n",
       "1        Intel HD Graphics 6000  macOS  1.34kg   47895.5232  \n",
       "2         Intel HD Graphics 620  No OS  1.86kg   30636.0000  \n",
       "3            AMD Radeon Pro 455  macOS  1.83kg  135195.3360  \n",
       "4  Intel Iris Plus Graphics 650  macOS  1.37kg   96095.8080  "
      ]
     },
     "execution_count": 2,
     "metadata": {},
     "output_type": "execute_result"
    }
   ],
   "source": [
    "data=pd.read_csv(\"/kaggle/input/laptop-price-prediction/laptop_data.csv\")\n",
    "data.head()"
   ]
  },
  {
   "cell_type": "markdown",
   "id": "4d697303",
   "metadata": {
    "papermill": {
     "duration": 0.026768,
     "end_time": "2022-12-30T00:24:24.162204",
     "exception": false,
     "start_time": "2022-12-30T00:24:24.135436",
     "status": "completed"
    },
    "tags": []
   },
   "source": [
    "\n",
    "<font size=\"6\">**Cleaning the data**</font>"
   ]
  },
  {
   "cell_type": "code",
   "execution_count": 3,
   "id": "a7e40a72",
   "metadata": {
    "execution": {
     "iopub.execute_input": "2022-12-30T00:24:24.207015Z",
     "iopub.status.busy": "2022-12-30T00:24:24.205385Z",
     "iopub.status.idle": "2022-12-30T00:24:24.237473Z",
     "shell.execute_reply": "2022-12-30T00:24:24.236232Z"
    },
    "papermill": {
     "duration": 0.057431,
     "end_time": "2022-12-30T00:24:24.240651",
     "exception": false,
     "start_time": "2022-12-30T00:24:24.183220",
     "status": "completed"
    },
    "tags": []
   },
   "outputs": [
    {
     "name": "stdout",
     "output_type": "stream",
     "text": [
      "<class 'pandas.core.frame.DataFrame'>\n",
      "RangeIndex: 1303 entries, 0 to 1302\n",
      "Data columns (total 12 columns):\n",
      " #   Column            Non-Null Count  Dtype  \n",
      "---  ------            --------------  -----  \n",
      " 0   Unnamed: 0        1303 non-null   int64  \n",
      " 1   Company           1303 non-null   object \n",
      " 2   TypeName          1303 non-null   object \n",
      " 3   Inches            1303 non-null   float64\n",
      " 4   ScreenResolution  1303 non-null   object \n",
      " 5   Cpu               1303 non-null   object \n",
      " 6   Ram               1303 non-null   object \n",
      " 7   Memory            1303 non-null   object \n",
      " 8   Gpu               1303 non-null   object \n",
      " 9   OpSys             1303 non-null   object \n",
      " 10  Weight            1303 non-null   object \n",
      " 11  Price             1303 non-null   float64\n",
      "dtypes: float64(2), int64(1), object(9)\n",
      "memory usage: 122.3+ KB\n"
     ]
    }
   ],
   "source": [
    "data.info()"
   ]
  },
  {
   "cell_type": "code",
   "execution_count": 4,
   "id": "7950a47c",
   "metadata": {
    "execution": {
     "iopub.execute_input": "2022-12-30T00:24:24.285619Z",
     "iopub.status.busy": "2022-12-30T00:24:24.284597Z",
     "iopub.status.idle": "2022-12-30T00:24:24.297817Z",
     "shell.execute_reply": "2022-12-30T00:24:24.296491Z"
    },
    "papermill": {
     "duration": 0.037979,
     "end_time": "2022-12-30T00:24:24.300499",
     "exception": false,
     "start_time": "2022-12-30T00:24:24.262520",
     "status": "completed"
    },
    "tags": []
   },
   "outputs": [
    {
     "data": {
      "text/plain": [
       "0"
      ]
     },
     "execution_count": 4,
     "metadata": {},
     "output_type": "execute_result"
    }
   ],
   "source": [
    "data.duplicated().sum()\n",
    "#no duplicate rows"
   ]
  },
  {
   "cell_type": "code",
   "execution_count": 5,
   "id": "197be6c6",
   "metadata": {
    "execution": {
     "iopub.execute_input": "2022-12-30T00:24:24.344001Z",
     "iopub.status.busy": "2022-12-30T00:24:24.343540Z",
     "iopub.status.idle": "2022-12-30T00:24:24.355062Z",
     "shell.execute_reply": "2022-12-30T00:24:24.353983Z"
    },
    "papermill": {
     "duration": 0.036226,
     "end_time": "2022-12-30T00:24:24.357717",
     "exception": false,
     "start_time": "2022-12-30T00:24:24.321491",
     "status": "completed"
    },
    "tags": []
   },
   "outputs": [
    {
     "data": {
      "text/plain": [
       "Unnamed: 0          0\n",
       "Company             0\n",
       "TypeName            0\n",
       "Inches              0\n",
       "ScreenResolution    0\n",
       "Cpu                 0\n",
       "Ram                 0\n",
       "Memory              0\n",
       "Gpu                 0\n",
       "OpSys               0\n",
       "Weight              0\n",
       "Price               0\n",
       "dtype: int64"
      ]
     },
     "execution_count": 5,
     "metadata": {},
     "output_type": "execute_result"
    }
   ],
   "source": [
    "data.isnull().sum()\n",
    "#no missing values in any column"
   ]
  },
  {
   "cell_type": "code",
   "execution_count": 6,
   "id": "697dccff",
   "metadata": {
    "execution": {
     "iopub.execute_input": "2022-12-30T00:24:24.403379Z",
     "iopub.status.busy": "2022-12-30T00:24:24.401914Z",
     "iopub.status.idle": "2022-12-30T00:24:24.410793Z",
     "shell.execute_reply": "2022-12-30T00:24:24.409759Z"
    },
    "papermill": {
     "duration": 0.034258,
     "end_time": "2022-12-30T00:24:24.413433",
     "exception": false,
     "start_time": "2022-12-30T00:24:24.379175",
     "status": "completed"
    },
    "tags": []
   },
   "outputs": [],
   "source": [
    " data.drop(columns=[\"Unnamed: 0\"],inplace=True)"
   ]
  },
  {
   "cell_type": "code",
   "execution_count": 7,
   "id": "857da27b",
   "metadata": {
    "execution": {
     "iopub.execute_input": "2022-12-30T00:24:24.460218Z",
     "iopub.status.busy": "2022-12-30T00:24:24.458899Z",
     "iopub.status.idle": "2022-12-30T00:24:24.478245Z",
     "shell.execute_reply": "2022-12-30T00:24:24.476866Z"
    },
    "papermill": {
     "duration": 0.045007,
     "end_time": "2022-12-30T00:24:24.480881",
     "exception": false,
     "start_time": "2022-12-30T00:24:24.435874",
     "status": "completed"
    },
    "tags": []
   },
   "outputs": [
    {
     "data": {
      "text/html": [
       "<div>\n",
       "<style scoped>\n",
       "    .dataframe tbody tr th:only-of-type {\n",
       "        vertical-align: middle;\n",
       "    }\n",
       "\n",
       "    .dataframe tbody tr th {\n",
       "        vertical-align: top;\n",
       "    }\n",
       "\n",
       "    .dataframe thead th {\n",
       "        text-align: right;\n",
       "    }\n",
       "</style>\n",
       "<table border=\"1\" class=\"dataframe\">\n",
       "  <thead>\n",
       "    <tr style=\"text-align: right;\">\n",
       "      <th></th>\n",
       "      <th>Company</th>\n",
       "      <th>TypeName</th>\n",
       "      <th>Inches</th>\n",
       "      <th>ScreenResolution</th>\n",
       "      <th>Cpu</th>\n",
       "      <th>Ram</th>\n",
       "      <th>Memory</th>\n",
       "      <th>Gpu</th>\n",
       "      <th>OpSys</th>\n",
       "      <th>Weight</th>\n",
       "      <th>Price</th>\n",
       "    </tr>\n",
       "  </thead>\n",
       "  <tbody>\n",
       "    <tr>\n",
       "      <th>0</th>\n",
       "      <td>Apple</td>\n",
       "      <td>Ultrabook</td>\n",
       "      <td>13.3</td>\n",
       "      <td>IPS Panel Retina Display 2560x1600</td>\n",
       "      <td>Intel Core i5 2.3GHz</td>\n",
       "      <td>8GB</td>\n",
       "      <td>128GB SSD</td>\n",
       "      <td>Intel Iris Plus Graphics 640</td>\n",
       "      <td>macOS</td>\n",
       "      <td>1.37kg</td>\n",
       "      <td>71378.6832</td>\n",
       "    </tr>\n",
       "    <tr>\n",
       "      <th>1</th>\n",
       "      <td>Apple</td>\n",
       "      <td>Ultrabook</td>\n",
       "      <td>13.3</td>\n",
       "      <td>1440x900</td>\n",
       "      <td>Intel Core i5 1.8GHz</td>\n",
       "      <td>8GB</td>\n",
       "      <td>128GB Flash Storage</td>\n",
       "      <td>Intel HD Graphics 6000</td>\n",
       "      <td>macOS</td>\n",
       "      <td>1.34kg</td>\n",
       "      <td>47895.5232</td>\n",
       "    </tr>\n",
       "    <tr>\n",
       "      <th>2</th>\n",
       "      <td>HP</td>\n",
       "      <td>Notebook</td>\n",
       "      <td>15.6</td>\n",
       "      <td>Full HD 1920x1080</td>\n",
       "      <td>Intel Core i5 7200U 2.5GHz</td>\n",
       "      <td>8GB</td>\n",
       "      <td>256GB SSD</td>\n",
       "      <td>Intel HD Graphics 620</td>\n",
       "      <td>No OS</td>\n",
       "      <td>1.86kg</td>\n",
       "      <td>30636.0000</td>\n",
       "    </tr>\n",
       "    <tr>\n",
       "      <th>3</th>\n",
       "      <td>Apple</td>\n",
       "      <td>Ultrabook</td>\n",
       "      <td>15.4</td>\n",
       "      <td>IPS Panel Retina Display 2880x1800</td>\n",
       "      <td>Intel Core i7 2.7GHz</td>\n",
       "      <td>16GB</td>\n",
       "      <td>512GB SSD</td>\n",
       "      <td>AMD Radeon Pro 455</td>\n",
       "      <td>macOS</td>\n",
       "      <td>1.83kg</td>\n",
       "      <td>135195.3360</td>\n",
       "    </tr>\n",
       "    <tr>\n",
       "      <th>4</th>\n",
       "      <td>Apple</td>\n",
       "      <td>Ultrabook</td>\n",
       "      <td>13.3</td>\n",
       "      <td>IPS Panel Retina Display 2560x1600</td>\n",
       "      <td>Intel Core i5 3.1GHz</td>\n",
       "      <td>8GB</td>\n",
       "      <td>256GB SSD</td>\n",
       "      <td>Intel Iris Plus Graphics 650</td>\n",
       "      <td>macOS</td>\n",
       "      <td>1.37kg</td>\n",
       "      <td>96095.8080</td>\n",
       "    </tr>\n",
       "  </tbody>\n",
       "</table>\n",
       "</div>"
      ],
      "text/plain": [
       "  Company   TypeName  Inches                    ScreenResolution  \\\n",
       "0   Apple  Ultrabook    13.3  IPS Panel Retina Display 2560x1600   \n",
       "1   Apple  Ultrabook    13.3                            1440x900   \n",
       "2      HP   Notebook    15.6                   Full HD 1920x1080   \n",
       "3   Apple  Ultrabook    15.4  IPS Panel Retina Display 2880x1800   \n",
       "4   Apple  Ultrabook    13.3  IPS Panel Retina Display 2560x1600   \n",
       "\n",
       "                          Cpu   Ram               Memory  \\\n",
       "0        Intel Core i5 2.3GHz   8GB            128GB SSD   \n",
       "1        Intel Core i5 1.8GHz   8GB  128GB Flash Storage   \n",
       "2  Intel Core i5 7200U 2.5GHz   8GB            256GB SSD   \n",
       "3        Intel Core i7 2.7GHz  16GB            512GB SSD   \n",
       "4        Intel Core i5 3.1GHz   8GB            256GB SSD   \n",
       "\n",
       "                            Gpu  OpSys  Weight        Price  \n",
       "0  Intel Iris Plus Graphics 640  macOS  1.37kg   71378.6832  \n",
       "1        Intel HD Graphics 6000  macOS  1.34kg   47895.5232  \n",
       "2         Intel HD Graphics 620  No OS  1.86kg   30636.0000  \n",
       "3            AMD Radeon Pro 455  macOS  1.83kg  135195.3360  \n",
       "4  Intel Iris Plus Graphics 650  macOS  1.37kg   96095.8080  "
      ]
     },
     "execution_count": 7,
     "metadata": {},
     "output_type": "execute_result"
    }
   ],
   "source": [
    "data.head()"
   ]
  },
  {
   "cell_type": "code",
   "execution_count": 8,
   "id": "32d02548",
   "metadata": {
    "execution": {
     "iopub.execute_input": "2022-12-30T00:24:24.525893Z",
     "iopub.status.busy": "2022-12-30T00:24:24.524671Z",
     "iopub.status.idle": "2022-12-30T00:24:24.535330Z",
     "shell.execute_reply": "2022-12-30T00:24:24.534287Z"
    },
    "papermill": {
     "duration": 0.035501,
     "end_time": "2022-12-30T00:24:24.537799",
     "exception": false,
     "start_time": "2022-12-30T00:24:24.502298",
     "status": "completed"
    },
    "tags": []
   },
   "outputs": [],
   "source": [
    "data['Ram']=data['Ram'].str.replace(\"GB\",\"\")\n",
    "data['Weight']=data['Weight'].str.replace(\"kg\",\"\")\n"
   ]
  },
  {
   "cell_type": "code",
   "execution_count": 9,
   "id": "17bbd798",
   "metadata": {
    "execution": {
     "iopub.execute_input": "2022-12-30T00:24:24.583740Z",
     "iopub.status.busy": "2022-12-30T00:24:24.583094Z",
     "iopub.status.idle": "2022-12-30T00:24:24.601305Z",
     "shell.execute_reply": "2022-12-30T00:24:24.600038Z"
    },
    "papermill": {
     "duration": 0.043744,
     "end_time": "2022-12-30T00:24:24.603917",
     "exception": false,
     "start_time": "2022-12-30T00:24:24.560173",
     "status": "completed"
    },
    "tags": []
   },
   "outputs": [
    {
     "data": {
      "text/html": [
       "<div>\n",
       "<style scoped>\n",
       "    .dataframe tbody tr th:only-of-type {\n",
       "        vertical-align: middle;\n",
       "    }\n",
       "\n",
       "    .dataframe tbody tr th {\n",
       "        vertical-align: top;\n",
       "    }\n",
       "\n",
       "    .dataframe thead th {\n",
       "        text-align: right;\n",
       "    }\n",
       "</style>\n",
       "<table border=\"1\" class=\"dataframe\">\n",
       "  <thead>\n",
       "    <tr style=\"text-align: right;\">\n",
       "      <th></th>\n",
       "      <th>Company</th>\n",
       "      <th>TypeName</th>\n",
       "      <th>Inches</th>\n",
       "      <th>ScreenResolution</th>\n",
       "      <th>Cpu</th>\n",
       "      <th>Ram</th>\n",
       "      <th>Memory</th>\n",
       "      <th>Gpu</th>\n",
       "      <th>OpSys</th>\n",
       "      <th>Weight</th>\n",
       "      <th>Price</th>\n",
       "    </tr>\n",
       "  </thead>\n",
       "  <tbody>\n",
       "    <tr>\n",
       "      <th>0</th>\n",
       "      <td>Apple</td>\n",
       "      <td>Ultrabook</td>\n",
       "      <td>13.3</td>\n",
       "      <td>IPS Panel Retina Display 2560x1600</td>\n",
       "      <td>Intel Core i5 2.3GHz</td>\n",
       "      <td>8</td>\n",
       "      <td>128GB SSD</td>\n",
       "      <td>Intel Iris Plus Graphics 640</td>\n",
       "      <td>macOS</td>\n",
       "      <td>1.37</td>\n",
       "      <td>71378.6832</td>\n",
       "    </tr>\n",
       "    <tr>\n",
       "      <th>1</th>\n",
       "      <td>Apple</td>\n",
       "      <td>Ultrabook</td>\n",
       "      <td>13.3</td>\n",
       "      <td>1440x900</td>\n",
       "      <td>Intel Core i5 1.8GHz</td>\n",
       "      <td>8</td>\n",
       "      <td>128GB Flash Storage</td>\n",
       "      <td>Intel HD Graphics 6000</td>\n",
       "      <td>macOS</td>\n",
       "      <td>1.34</td>\n",
       "      <td>47895.5232</td>\n",
       "    </tr>\n",
       "    <tr>\n",
       "      <th>2</th>\n",
       "      <td>HP</td>\n",
       "      <td>Notebook</td>\n",
       "      <td>15.6</td>\n",
       "      <td>Full HD 1920x1080</td>\n",
       "      <td>Intel Core i5 7200U 2.5GHz</td>\n",
       "      <td>8</td>\n",
       "      <td>256GB SSD</td>\n",
       "      <td>Intel HD Graphics 620</td>\n",
       "      <td>No OS</td>\n",
       "      <td>1.86</td>\n",
       "      <td>30636.0000</td>\n",
       "    </tr>\n",
       "    <tr>\n",
       "      <th>3</th>\n",
       "      <td>Apple</td>\n",
       "      <td>Ultrabook</td>\n",
       "      <td>15.4</td>\n",
       "      <td>IPS Panel Retina Display 2880x1800</td>\n",
       "      <td>Intel Core i7 2.7GHz</td>\n",
       "      <td>16</td>\n",
       "      <td>512GB SSD</td>\n",
       "      <td>AMD Radeon Pro 455</td>\n",
       "      <td>macOS</td>\n",
       "      <td>1.83</td>\n",
       "      <td>135195.3360</td>\n",
       "    </tr>\n",
       "    <tr>\n",
       "      <th>4</th>\n",
       "      <td>Apple</td>\n",
       "      <td>Ultrabook</td>\n",
       "      <td>13.3</td>\n",
       "      <td>IPS Panel Retina Display 2560x1600</td>\n",
       "      <td>Intel Core i5 3.1GHz</td>\n",
       "      <td>8</td>\n",
       "      <td>256GB SSD</td>\n",
       "      <td>Intel Iris Plus Graphics 650</td>\n",
       "      <td>macOS</td>\n",
       "      <td>1.37</td>\n",
       "      <td>96095.8080</td>\n",
       "    </tr>\n",
       "  </tbody>\n",
       "</table>\n",
       "</div>"
      ],
      "text/plain": [
       "  Company   TypeName  Inches                    ScreenResolution  \\\n",
       "0   Apple  Ultrabook    13.3  IPS Panel Retina Display 2560x1600   \n",
       "1   Apple  Ultrabook    13.3                            1440x900   \n",
       "2      HP   Notebook    15.6                   Full HD 1920x1080   \n",
       "3   Apple  Ultrabook    15.4  IPS Panel Retina Display 2880x1800   \n",
       "4   Apple  Ultrabook    13.3  IPS Panel Retina Display 2560x1600   \n",
       "\n",
       "                          Cpu Ram               Memory  \\\n",
       "0        Intel Core i5 2.3GHz   8            128GB SSD   \n",
       "1        Intel Core i5 1.8GHz   8  128GB Flash Storage   \n",
       "2  Intel Core i5 7200U 2.5GHz   8            256GB SSD   \n",
       "3        Intel Core i7 2.7GHz  16            512GB SSD   \n",
       "4        Intel Core i5 3.1GHz   8            256GB SSD   \n",
       "\n",
       "                            Gpu  OpSys Weight        Price  \n",
       "0  Intel Iris Plus Graphics 640  macOS   1.37   71378.6832  \n",
       "1        Intel HD Graphics 6000  macOS   1.34   47895.5232  \n",
       "2         Intel HD Graphics 620  No OS   1.86   30636.0000  \n",
       "3            AMD Radeon Pro 455  macOS   1.83  135195.3360  \n",
       "4  Intel Iris Plus Graphics 650  macOS   1.37   96095.8080  "
      ]
     },
     "execution_count": 9,
     "metadata": {},
     "output_type": "execute_result"
    }
   ],
   "source": [
    "data.head()"
   ]
  },
  {
   "cell_type": "code",
   "execution_count": 10,
   "id": "b8596c4d",
   "metadata": {
    "execution": {
     "iopub.execute_input": "2022-12-30T00:24:24.648755Z",
     "iopub.status.busy": "2022-12-30T00:24:24.648311Z",
     "iopub.status.idle": "2022-12-30T00:24:24.656724Z",
     "shell.execute_reply": "2022-12-30T00:24:24.655466Z"
    },
    "papermill": {
     "duration": 0.034346,
     "end_time": "2022-12-30T00:24:24.659708",
     "exception": false,
     "start_time": "2022-12-30T00:24:24.625362",
     "status": "completed"
    },
    "tags": []
   },
   "outputs": [],
   "source": [
    "data['Ram']=data['Ram'].astype('int32')\n",
    "data['Weight']=data['Weight'].astype('float64')"
   ]
  },
  {
   "cell_type": "code",
   "execution_count": 11,
   "id": "bf7ec3dd",
   "metadata": {
    "execution": {
     "iopub.execute_input": "2022-12-30T00:24:24.706182Z",
     "iopub.status.busy": "2022-12-30T00:24:24.705696Z",
     "iopub.status.idle": "2022-12-30T00:24:24.722446Z",
     "shell.execute_reply": "2022-12-30T00:24:24.720885Z"
    },
    "papermill": {
     "duration": 0.04357,
     "end_time": "2022-12-30T00:24:24.726190",
     "exception": false,
     "start_time": "2022-12-30T00:24:24.682620",
     "status": "completed"
    },
    "tags": []
   },
   "outputs": [
    {
     "name": "stdout",
     "output_type": "stream",
     "text": [
      "<class 'pandas.core.frame.DataFrame'>\n",
      "RangeIndex: 1303 entries, 0 to 1302\n",
      "Data columns (total 11 columns):\n",
      " #   Column            Non-Null Count  Dtype  \n",
      "---  ------            --------------  -----  \n",
      " 0   Company           1303 non-null   object \n",
      " 1   TypeName          1303 non-null   object \n",
      " 2   Inches            1303 non-null   float64\n",
      " 3   ScreenResolution  1303 non-null   object \n",
      " 4   Cpu               1303 non-null   object \n",
      " 5   Ram               1303 non-null   int32  \n",
      " 6   Memory            1303 non-null   object \n",
      " 7   Gpu               1303 non-null   object \n",
      " 8   OpSys             1303 non-null   object \n",
      " 9   Weight            1303 non-null   float64\n",
      " 10  Price             1303 non-null   float64\n",
      "dtypes: float64(3), int32(1), object(7)\n",
      "memory usage: 107.0+ KB\n"
     ]
    }
   ],
   "source": [
    "data.info()"
   ]
  },
  {
   "cell_type": "code",
   "execution_count": 12,
   "id": "6461f97b",
   "metadata": {
    "execution": {
     "iopub.execute_input": "2022-12-30T00:24:24.772220Z",
     "iopub.status.busy": "2022-12-30T00:24:24.771803Z",
     "iopub.status.idle": "2022-12-30T00:24:25.163160Z",
     "shell.execute_reply": "2022-12-30T00:24:25.161785Z"
    },
    "papermill": {
     "duration": 0.417188,
     "end_time": "2022-12-30T00:24:25.165815",
     "exception": false,
     "start_time": "2022-12-30T00:24:24.748627",
     "status": "completed"
    },
    "tags": []
   },
   "outputs": [
    {
     "name": "stderr",
     "output_type": "stream",
     "text": [
      "/opt/conda/lib/python3.7/site-packages/seaborn/distributions.py:2619: FutureWarning: `distplot` is a deprecated function and will be removed in a future version. Please adapt your code to use either `displot` (a figure-level function with similar flexibility) or `histplot` (an axes-level function for histograms).\n",
      "  warnings.warn(msg, FutureWarning)\n"
     ]
    },
    {
     "data": {
      "text/plain": [
       "<AxesSubplot:xlabel='Price', ylabel='Density'>"
      ]
     },
     "execution_count": 12,
     "metadata": {},
     "output_type": "execute_result"
    },
    {
     "data": {
      "image/png": "[encoded data removed]",
      "text/plain": [
       "<Figure size 432x288 with 1 Axes>"
      ]
     },
     "metadata": {
      "needs_background": "light"
     },
     "output_type": "display_data"
    }
   ],
   "source": [
    "sns.distplot(data['Price'])"
   ]
  },
  {
   "cell_type": "markdown",
   "id": "3595e319",
   "metadata": {
    "papermill": {
     "duration": 0.022137,
     "end_time": "2022-12-30T00:24:25.209977",
     "exception": false,
     "start_time": "2022-12-30T00:24:25.187840",
     "status": "completed"
    },
    "tags": []
   },
   "source": [
    "\n",
    "<font size=\"6\">**EDA**</font>"
   ]
  },
  {
   "cell_type": "code",
   "execution_count": 13,
   "id": "223c1fb3",
   "metadata": {
    "execution": {
     "iopub.execute_input": "2022-12-30T00:24:25.255306Z",
     "iopub.status.busy": "2022-12-30T00:24:25.254858Z",
     "iopub.status.idle": "2022-12-30T00:24:25.589411Z",
     "shell.execute_reply": "2022-12-30T00:24:25.587996Z"
    },
    "papermill": {
     "duration": 0.360544,
     "end_time": "2022-12-30T00:24:25.592223",
     "exception": false,
     "start_time": "2022-12-30T00:24:25.231679",
     "status": "completed"
    },
    "tags": []
   },
   "outputs": [
    {
     "data": {
      "text/plain": [
       "<AxesSubplot:>"
      ]
     },
     "execution_count": 13,
     "metadata": {},
     "output_type": "execute_result"
    },
    {
     "data": {
      "image/png": "[encoded data removed]",
      "text/plain": [
       "<Figure size 432x288 with 1 Axes>"
      ]
     },
     "metadata": {
      "needs_background": "light"
     },
     "output_type": "display_data"
    }
   ],
   "source": [
    "data['Company'].value_counts().plot(kind='bar')"
   ]
  },
  {
   "cell_type": "code",
   "execution_count": 14,
   "id": "e3a8b870",
   "metadata": {
    "execution": {
     "iopub.execute_input": "2022-12-30T00:24:25.639117Z",
     "iopub.status.busy": "2022-12-30T00:24:25.638666Z",
     "iopub.status.idle": "2022-12-30T00:24:26.460688Z",
     "shell.execute_reply": "2022-12-30T00:24:26.459431Z"
    },
    "papermill": {
     "duration": 0.849247,
     "end_time": "2022-12-30T00:24:26.463913",
     "exception": false,
     "start_time": "2022-12-30T00:24:25.614666",
     "status": "completed"
    },
    "tags": []
   },
   "outputs": [
    {
     "data": {
      "image/png": "[encoded data removed]",
      "text/plain": [
       "<Figure size 432x288 with 1 Axes>"
      ]
     },
     "metadata": {
      "needs_background": "light"
     },
     "output_type": "display_data"
    }
   ],
   "source": [
    "sns.barplot(x=data['Company'],y=data['Price'])\n",
    "plt.xticks(rotation='vertical')\n",
    "plt.show()"
   ]
  },
  {
   "cell_type": "code",
   "execution_count": 15,
   "id": "0e914bcb",
   "metadata": {
    "execution": {
     "iopub.execute_input": "2022-12-30T00:24:26.529845Z",
     "iopub.status.busy": "2022-12-30T00:24:26.528849Z",
     "iopub.status.idle": "2022-12-30T00:24:26.776819Z",
     "shell.execute_reply": "2022-12-30T00:24:26.775285Z"
    },
    "papermill": {
     "duration": 0.279558,
     "end_time": "2022-12-30T00:24:26.780014",
     "exception": false,
     "start_time": "2022-12-30T00:24:26.500456",
     "status": "completed"
    },
    "tags": []
   },
   "outputs": [
    {
     "data": {
      "text/plain": [
       "<AxesSubplot:>"
      ]
     },
     "execution_count": 15,
     "metadata": {},
     "output_type": "execute_result"
    },
    {
     "data": {
      "image/png": "[encoded data removed]",
      "text/plain": [
       "<Figure size 432x288 with 1 Axes>"
      ]
     },
     "metadata": {
      "needs_background": "light"
     },
     "output_type": "display_data"
    }
   ],
   "source": [
    "data['TypeName'].value_counts().plot(kind='bar')"
   ]
  },
  {
   "cell_type": "code",
   "execution_count": 16,
   "id": "9af0c53c",
   "metadata": {
    "execution": {
     "iopub.execute_input": "2022-12-30T00:24:26.829399Z",
     "iopub.status.busy": "2022-12-30T00:24:26.828302Z",
     "iopub.status.idle": "2022-12-30T00:24:27.206191Z",
     "shell.execute_reply": "2022-12-30T00:24:27.204724Z"
    },
    "papermill": {
     "duration": 0.405029,
     "end_time": "2022-12-30T00:24:27.208894",
     "exception": false,
     "start_time": "2022-12-30T00:24:26.803865",
     "status": "completed"
    },
    "tags": []
   },
   "outputs": [
    {
     "data": {
      "image/png": "[encoded data removed]",
      "text/plain": [
       "<Figure size 432x288 with 1 Axes>"
      ]
     },
     "metadata": {
      "needs_background": "light"
     },
     "output_type": "display_data"
    }
   ],
   "source": [
    "sns.barplot(x=data['TypeName'],y=data['Price'])\n",
    "plt.xticks(rotation='vertical')\n",
    "plt.show()"
   ]
  },
  {
   "cell_type": "code",
   "execution_count": 17,
   "id": "3a6bd829",
   "metadata": {
    "execution": {
     "iopub.execute_input": "2022-12-30T00:24:27.259990Z",
     "iopub.status.busy": "2022-12-30T00:24:27.259514Z",
     "iopub.status.idle": "2022-12-30T00:24:27.552836Z",
     "shell.execute_reply": "2022-12-30T00:24:27.551847Z"
    },
    "papermill": {
     "duration": 0.322339,
     "end_time": "2022-12-30T00:24:27.555550",
     "exception": false,
     "start_time": "2022-12-30T00:24:27.233211",
     "status": "completed"
    },
    "tags": []
   },
   "outputs": [
    {
     "name": "stderr",
     "output_type": "stream",
     "text": [
      "/opt/conda/lib/python3.7/site-packages/seaborn/distributions.py:2619: FutureWarning: `distplot` is a deprecated function and will be removed in a future version. Please adapt your code to use either `displot` (a figure-level function with similar flexibility) or `histplot` (an axes-level function for histograms).\n",
      "  warnings.warn(msg, FutureWarning)\n"
     ]
    },
    {
     "data": {
      "text/plain": [
       "<AxesSubplot:xlabel='Inches', ylabel='Density'>"
      ]
     },
     "execution_count": 17,
     "metadata": {},
     "output_type": "execute_result"
    },
    {
     "data": {
      "image/png": "[encoded data removed]",
      "text/plain": [
       "<Figure size 432x288 with 1 Axes>"
      ]
     },
     "metadata": {
      "needs_background": "light"
     },
     "output_type": "display_data"
    }
   ],
   "source": [
    "sns.distplot(data['Inches'])"
   ]
  },
  {
   "cell_type": "code",
   "execution_count": 18,
   "id": "3711ac30",
   "metadata": {
    "execution": {
     "iopub.execute_input": "2022-12-30T00:24:27.612690Z",
     "iopub.status.busy": "2022-12-30T00:24:27.611961Z",
     "iopub.status.idle": "2022-12-30T00:24:27.878776Z",
     "shell.execute_reply": "2022-12-30T00:24:27.877168Z"
    },
    "papermill": {
     "duration": 0.298015,
     "end_time": "2022-12-30T00:24:27.882111",
     "exception": false,
     "start_time": "2022-12-30T00:24:27.584096",
     "status": "completed"
    },
    "tags": []
   },
   "outputs": [
    {
     "data": {
      "text/plain": [
       "<AxesSubplot:xlabel='Inches', ylabel='Price'>"
      ]
     },
     "execution_count": 18,
     "metadata": {},
     "output_type": "execute_result"
    },
    {
     "data": {
      "image/png": "[encoded data removed]",
      "text/plain": [
       "<Figure size 432x288 with 1 Axes>"
      ]
     },
     "metadata": {
      "needs_background": "light"
     },
     "output_type": "display_data"
    }
   ],
   "source": [
    "sns.scatterplot(x=data['Inches'],y=data['Price'])"
   ]
  },
  {
   "cell_type": "code",
   "execution_count": 19,
   "id": "939f49a2",
   "metadata": {
    "execution": {
     "iopub.execute_input": "2022-12-30T00:24:27.938107Z",
     "iopub.status.busy": "2022-12-30T00:24:27.937633Z",
     "iopub.status.idle": "2022-12-30T00:24:27.949683Z",
     "shell.execute_reply": "2022-12-30T00:24:27.948185Z"
    },
    "papermill": {
     "duration": 0.043499,
     "end_time": "2022-12-30T00:24:27.952643",
     "exception": false,
     "start_time": "2022-12-30T00:24:27.909144",
     "status": "completed"
    },
    "tags": []
   },
   "outputs": [
    {
     "data": {
      "text/plain": [
       "Full HD 1920x1080                                507\n",
       "1366x768                                         281\n",
       "IPS Panel Full HD 1920x1080                      230\n",
       "IPS Panel Full HD / Touchscreen 1920x1080         53\n",
       "Full HD / Touchscreen 1920x1080                   47\n",
       "1600x900                                          23\n",
       "Touchscreen 1366x768                              16\n",
       "Quad HD+ / Touchscreen 3200x1800                  15\n",
       "IPS Panel 4K Ultra HD 3840x2160                   12\n",
       "IPS Panel 4K Ultra HD / Touchscreen 3840x2160     11\n",
       "4K Ultra HD / Touchscreen 3840x2160               10\n",
       "4K Ultra HD 3840x2160                              7\n",
       "Touchscreen 2560x1440                              7\n",
       "IPS Panel 1366x768                                 7\n",
       "IPS Panel Quad HD+ / Touchscreen 3200x1800         6\n",
       "IPS Panel Retina Display 2560x1600                 6\n",
       "IPS Panel Retina Display 2304x1440                 6\n",
       "Touchscreen 2256x1504                              6\n",
       "IPS Panel Touchscreen 2560x1440                    5\n",
       "IPS Panel Retina Display 2880x1800                 4\n",
       "IPS Panel Touchscreen 1920x1200                    4\n",
       "1440x900                                           4\n",
       "IPS Panel 2560x1440                                4\n",
       "IPS Panel Quad HD+ 2560x1440                       3\n",
       "Quad HD+ 3200x1800                                 3\n",
       "1920x1080                                          3\n",
       "Touchscreen 2400x1600                              3\n",
       "2560x1440                                          3\n",
       "IPS Panel Touchscreen 1366x768                     3\n",
       "IPS Panel Touchscreen / 4K Ultra HD 3840x2160      2\n",
       "IPS Panel Full HD 2160x1440                        2\n",
       "IPS Panel Quad HD+ 3200x1800                       2\n",
       "IPS Panel Retina Display 2736x1824                 1\n",
       "IPS Panel Full HD 1920x1200                        1\n",
       "IPS Panel Full HD 2560x1440                        1\n",
       "IPS Panel Full HD 1366x768                         1\n",
       "Touchscreen / Full HD 1920x1080                    1\n",
       "Touchscreen / Quad HD+ 3200x1800                   1\n",
       "Touchscreen / 4K Ultra HD 3840x2160                1\n",
       "IPS Panel Touchscreen 2400x1600                    1\n",
       "Name: ScreenResolution, dtype: int64"
      ]
     },
     "execution_count": 19,
     "metadata": {},
     "output_type": "execute_result"
    }
   ],
   "source": [
    "data['ScreenResolution'].value_counts()"
   ]
  },
  {
   "cell_type": "code",
   "execution_count": 20,
   "id": "fb17de97",
   "metadata": {
    "execution": {
     "iopub.execute_input": "2022-12-30T00:24:28.007433Z",
     "iopub.status.busy": "2022-12-30T00:24:28.007015Z",
     "iopub.status.idle": "2022-12-30T00:24:28.014362Z",
     "shell.execute_reply": "2022-12-30T00:24:28.013283Z"
    },
    "papermill": {
     "duration": 0.037383,
     "end_time": "2022-12-30T00:24:28.016980",
     "exception": false,
     "start_time": "2022-12-30T00:24:27.979597",
     "status": "completed"
    },
    "tags": []
   },
   "outputs": [],
   "source": [
    "data['Touchscreen'] = data['ScreenResolution'].apply(lambda x:1 if 'Touchscreen' in x else 0)"
   ]
  },
  {
   "cell_type": "code",
   "execution_count": 21,
   "id": "f0423906",
   "metadata": {
    "execution": {
     "iopub.execute_input": "2022-12-30T00:24:28.072679Z",
     "iopub.status.busy": "2022-12-30T00:24:28.072259Z",
     "iopub.status.idle": "2022-12-30T00:24:28.267020Z",
     "shell.execute_reply": "2022-12-30T00:24:28.265764Z"
    },
    "papermill": {
     "duration": 0.226086,
     "end_time": "2022-12-30T00:24:28.270816",
     "exception": false,
     "start_time": "2022-12-30T00:24:28.044730",
     "status": "completed"
    },
    "tags": []
   },
   "outputs": [
    {
     "data": {
      "text/plain": [
       "<AxesSubplot:>"
      ]
     },
     "execution_count": 21,
     "metadata": {},
     "output_type": "execute_result"
    },
    {
     "data": {
      "image/png": "[encoded data removed]",
      "text/plain": [
       "<Figure size 432x288 with 1 Axes>"
      ]
     },
     "metadata": {
      "needs_background": "light"
     },
     "output_type": "display_data"
    }
   ],
   "source": [
    "data['Touchscreen'].value_counts().plot(kind='bar')"
   ]
  },
  {
   "cell_type": "code",
   "execution_count": 22,
   "id": "c405def2",
   "metadata": {
    "execution": {
     "iopub.execute_input": "2022-12-30T00:24:28.326630Z",
     "iopub.status.busy": "2022-12-30T00:24:28.326202Z",
     "iopub.status.idle": "2022-12-30T00:24:28.613688Z",
     "shell.execute_reply": "2022-12-30T00:24:28.612355Z"
    },
    "papermill": {
     "duration": 0.318506,
     "end_time": "2022-12-30T00:24:28.616551",
     "exception": false,
     "start_time": "2022-12-30T00:24:28.298045",
     "status": "completed"
    },
    "tags": []
   },
   "outputs": [
    {
     "data": {
      "text/plain": [
       "<AxesSubplot:xlabel='Touchscreen', ylabel='Price'>"
      ]
     },
     "execution_count": 22,
     "metadata": {},
     "output_type": "execute_result"
    },
    {
     "data": {
      "image/png": "[encoded data removed]",
      "text/plain": [
       "<Figure size 432x288 with 1 Axes>"
      ]
     },
     "metadata": {
      "needs_background": "light"
     },
     "output_type": "display_data"
    }
   ],
   "source": [
    "sns.barplot(x=data['Touchscreen'],y=data['Price'])"
   ]
  },
  {
   "cell_type": "code",
   "execution_count": 23,
   "id": "4a940d9e",
   "metadata": {
    "execution": {
     "iopub.execute_input": "2022-12-30T00:24:28.673750Z",
     "iopub.status.busy": "2022-12-30T00:24:28.672786Z",
     "iopub.status.idle": "2022-12-30T00:24:28.679541Z",
     "shell.execute_reply": "2022-12-30T00:24:28.678655Z"
    },
    "papermill": {
     "duration": 0.037201,
     "end_time": "2022-12-30T00:24:28.681739",
     "exception": false,
     "start_time": "2022-12-30T00:24:28.644538",
     "status": "completed"
    },
    "tags": []
   },
   "outputs": [],
   "source": [
    "data['IPS Panel'] = data['ScreenResolution'].apply(lambda x:1 if 'IPS Panel' in x else 0)"
   ]
  },
  {
   "cell_type": "code",
   "execution_count": 24,
   "id": "cd5ce3bb",
   "metadata": {
    "execution": {
     "iopub.execute_input": "2022-12-30T00:24:28.739223Z",
     "iopub.status.busy": "2022-12-30T00:24:28.737740Z",
     "iopub.status.idle": "2022-12-30T00:24:28.934791Z",
     "shell.execute_reply": "2022-12-30T00:24:28.933547Z"
    },
    "papermill": {
     "duration": 0.228785,
     "end_time": "2022-12-30T00:24:28.937519",
     "exception": false,
     "start_time": "2022-12-30T00:24:28.708734",
     "status": "completed"
    },
    "tags": []
   },
   "outputs": [
    {
     "data": {
      "text/plain": [
       "<AxesSubplot:>"
      ]
     },
     "execution_count": 24,
     "metadata": {},
     "output_type": "execute_result"
    },
    {
     "data": {
      "image/png": "[encoded data removed]",
      "text/plain": [
       "<Figure size 432x288 with 1 Axes>"
      ]
     },
     "metadata": {
      "needs_background": "light"
     },
     "output_type": "display_data"
    }
   ],
   "source": [
    "data['IPS Panel'].value_counts().plot(kind='bar')"
   ]
  },
  {
   "cell_type": "code",
   "execution_count": 25,
   "id": "02ed95b2",
   "metadata": {
    "execution": {
     "iopub.execute_input": "2022-12-30T00:24:28.991815Z",
     "iopub.status.busy": "2022-12-30T00:24:28.990984Z",
     "iopub.status.idle": "2022-12-30T00:24:29.267495Z",
     "shell.execute_reply": "2022-12-30T00:24:29.266010Z"
    },
    "papermill": {
     "duration": 0.307414,
     "end_time": "2022-12-30T00:24:29.270674",
     "exception": false,
     "start_time": "2022-12-30T00:24:28.963260",
     "status": "completed"
    },
    "tags": []
   },
   "outputs": [
    {
     "data": {
      "text/plain": [
       "<AxesSubplot:xlabel='IPS Panel', ylabel='Price'>"
      ]
     },
     "execution_count": 25,
     "metadata": {},
     "output_type": "execute_result"
    },
    {
     "data": {
      "image/png": "[encoded data removed]",
      "text/plain": [
       "<Figure size 432x288 with 1 Axes>"
      ]
     },
     "metadata": {
      "needs_background": "light"
     },
     "output_type": "display_data"
    }
   ],
   "source": [
    "sns.barplot(x=data['IPS Panel'],y=data['Price'])"
   ]
  },
  {
   "cell_type": "code",
   "execution_count": 26,
   "id": "a3ef3d95",
   "metadata": {
    "execution": {
     "iopub.execute_input": "2022-12-30T00:24:29.330630Z",
     "iopub.status.busy": "2022-12-30T00:24:29.329617Z",
     "iopub.status.idle": "2022-12-30T00:24:29.339554Z",
     "shell.execute_reply": "2022-12-30T00:24:29.338083Z"
    },
    "papermill": {
     "duration": 0.04346,
     "end_time": "2022-12-30T00:24:29.342420",
     "exception": false,
     "start_time": "2022-12-30T00:24:29.298960",
     "status": "completed"
    },
    "tags": []
   },
   "outputs": [],
   "source": [
    "new = data['ScreenResolution'].str.split('x',n=1,expand=True)"
   ]
  },
  {
   "cell_type": "code",
   "execution_count": 27,
   "id": "5020c238",
   "metadata": {
    "execution": {
     "iopub.execute_input": "2022-12-30T00:24:29.400827Z",
     "iopub.status.busy": "2022-12-30T00:24:29.399867Z",
     "iopub.status.idle": "2022-12-30T00:24:29.411314Z",
     "shell.execute_reply": "2022-12-30T00:24:29.409871Z"
    },
    "papermill": {
     "duration": 0.043514,
     "end_time": "2022-12-30T00:24:29.413862",
     "exception": false,
     "start_time": "2022-12-30T00:24:29.370348",
     "status": "completed"
    },
    "tags": []
   },
   "outputs": [
    {
     "data": {
      "text/plain": [
       "Full HD 1920                                507\n",
       "1366                                        281\n",
       "IPS Panel Full HD 1920                      231\n",
       "IPS Panel Full HD / Touchscreen 1920         53\n",
       "Full HD / Touchscreen 1920                   47\n",
       "1600                                         23\n",
       "Touchscreen 1366                             16\n",
       "Quad HD+ / Touchscreen 3200                  15\n",
       "IPS Panel 4K Ultra HD 3840                   12\n",
       "IPS Panel 4K Ultra HD / Touchscreen 3840     11\n",
       "4K Ultra HD / Touchscreen 3840               10\n",
       "4K Ultra HD 3840                              7\n",
       "Touchscreen 2560                              7\n",
       "IPS Panel 1366                                7\n",
       "IPS Panel Quad HD+ / Touchscreen 3200         6\n",
       "IPS Panel Retina Display 2560                 6\n",
       "IPS Panel Retina Display 2304                 6\n",
       "Touchscreen 2256                              6\n",
       "IPS Panel Touchscreen 2560                    5\n",
       "IPS Panel Retina Display 2880                 4\n",
       "IPS Panel Touchscreen 1920                    4\n",
       "1440                                          4\n",
       "IPS Panel 2560                                4\n",
       "2560                                          3\n",
       "Quad HD+ 3200                                 3\n",
       "1920                                          3\n",
       "Touchscreen 2400                              3\n",
       "IPS Panel Quad HD+ 2560                       3\n",
       "IPS Panel Touchscreen 1366                    3\n",
       "IPS Panel Touchscreen / 4K Ultra HD 3840      2\n",
       "IPS Panel Full HD 2160                        2\n",
       "IPS Panel Quad HD+ 3200                       2\n",
       "IPS Panel Retina Display 2736                 1\n",
       "IPS Panel Full HD 2560                        1\n",
       "IPS Panel Full HD 1366                        1\n",
       "Touchscreen / Full HD 1920                    1\n",
       "Touchscreen / Quad HD+ 3200                   1\n",
       "Touchscreen / 4K Ultra HD 3840                1\n",
       "IPS Panel Touchscreen 2400                    1\n",
       "Name: 0, dtype: int64"
      ]
     },
     "execution_count": 27,
     "metadata": {},
     "output_type": "execute_result"
    }
   ],
   "source": [
    "new[0].value_counts()"
   ]
  },
  {
   "cell_type": "code",
   "execution_count": 28,
   "id": "b7d149ef",
   "metadata": {
    "execution": {
     "iopub.execute_input": "2022-12-30T00:24:29.472037Z",
     "iopub.status.busy": "2022-12-30T00:24:29.471339Z",
     "iopub.status.idle": "2022-12-30T00:24:29.482371Z",
     "shell.execute_reply": "2022-12-30T00:24:29.481074Z"
    },
    "papermill": {
     "duration": 0.043351,
     "end_time": "2022-12-30T00:24:29.484889",
     "exception": false,
     "start_time": "2022-12-30T00:24:29.441538",
     "status": "completed"
    },
    "tags": []
   },
   "outputs": [
    {
     "data": {
      "text/plain": [
       "1920    846\n",
       "1366    308\n",
       "3840     43\n",
       "2560     29\n",
       "3200     27\n",
       "1600     23\n",
       "2304      6\n",
       "2256      6\n",
       "1440      4\n",
       "2880      4\n",
       "2400      4\n",
       "2160      2\n",
       "2736      1\n",
       "Name: 0, dtype: int64"
      ]
     },
     "execution_count": 28,
     "metadata": {},
     "output_type": "execute_result"
    }
   ],
   "source": [
    "new[0].str[-4:].value_counts()"
   ]
  },
  {
   "cell_type": "code",
   "execution_count": 29,
   "id": "44b643c0",
   "metadata": {
    "execution": {
     "iopub.execute_input": "2022-12-30T00:24:29.543180Z",
     "iopub.status.busy": "2022-12-30T00:24:29.542475Z",
     "iopub.status.idle": "2022-12-30T00:24:29.550797Z",
     "shell.execute_reply": "2022-12-30T00:24:29.549500Z"
    },
    "papermill": {
     "duration": 0.041261,
     "end_time": "2022-12-30T00:24:29.553780",
     "exception": false,
     "start_time": "2022-12-30T00:24:29.512519",
     "status": "completed"
    },
    "tags": []
   },
   "outputs": [],
   "source": [
    "data['X_res']=new[0].str[-4:]\n",
    "data['Y_res']=new[1]"
   ]
  },
  {
   "cell_type": "code",
   "execution_count": 30,
   "id": "d705d37f",
   "metadata": {
    "execution": {
     "iopub.execute_input": "2022-12-30T00:24:29.612849Z",
     "iopub.status.busy": "2022-12-30T00:24:29.612074Z",
     "iopub.status.idle": "2022-12-30T00:24:29.632853Z",
     "shell.execute_reply": "2022-12-30T00:24:29.631424Z"
    },
    "papermill": {
     "duration": 0.053949,
     "end_time": "2022-12-30T00:24:29.635642",
     "exception": false,
     "start_time": "2022-12-30T00:24:29.581693",
     "status": "completed"
    },
    "tags": []
   },
   "outputs": [
    {
     "data": {
      "text/html": [
       "<div>\n",
       "<style scoped>\n",
       "    .dataframe tbody tr th:only-of-type {\n",
       "        vertical-align: middle;\n",
       "    }\n",
       "\n",
       "    .dataframe tbody tr th {\n",
       "        vertical-align: top;\n",
       "    }\n",
       "\n",
       "    .dataframe thead th {\n",
       "        text-align: right;\n",
       "    }\n",
       "</style>\n",
       "<table border=\"1\" class=\"dataframe\">\n",
       "  <thead>\n",
       "    <tr style=\"text-align: right;\">\n",
       "      <th></th>\n",
       "      <th>Company</th>\n",
       "      <th>TypeName</th>\n",
       "      <th>Inches</th>\n",
       "      <th>ScreenResolution</th>\n",
       "      <th>Cpu</th>\n",
       "      <th>Ram</th>\n",
       "      <th>Memory</th>\n",
       "      <th>Gpu</th>\n",
       "      <th>OpSys</th>\n",
       "      <th>Weight</th>\n",
       "      <th>Price</th>\n",
       "      <th>Touchscreen</th>\n",
       "      <th>IPS Panel</th>\n",
       "      <th>X_res</th>\n",
       "      <th>Y_res</th>\n",
       "    </tr>\n",
       "  </thead>\n",
       "  <tbody>\n",
       "    <tr>\n",
       "      <th>0</th>\n",
       "      <td>Apple</td>\n",
       "      <td>Ultrabook</td>\n",
       "      <td>13.3</td>\n",
       "      <td>IPS Panel Retina Display 2560x1600</td>\n",
       "      <td>Intel Core i5 2.3GHz</td>\n",
       "      <td>8</td>\n",
       "      <td>128GB SSD</td>\n",
       "      <td>Intel Iris Plus Graphics 640</td>\n",
       "      <td>macOS</td>\n",
       "      <td>1.37</td>\n",
       "      <td>71378.6832</td>\n",
       "      <td>0</td>\n",
       "      <td>1</td>\n",
       "      <td>2560</td>\n",
       "      <td>1600</td>\n",
       "    </tr>\n",
       "    <tr>\n",
       "      <th>1</th>\n",
       "      <td>Apple</td>\n",
       "      <td>Ultrabook</td>\n",
       "      <td>13.3</td>\n",
       "      <td>1440x900</td>\n",
       "      <td>Intel Core i5 1.8GHz</td>\n",
       "      <td>8</td>\n",
       "      <td>128GB Flash Storage</td>\n",
       "      <td>Intel HD Graphics 6000</td>\n",
       "      <td>macOS</td>\n",
       "      <td>1.34</td>\n",
       "      <td>47895.5232</td>\n",
       "      <td>0</td>\n",
       "      <td>0</td>\n",
       "      <td>1440</td>\n",
       "      <td>900</td>\n",
       "    </tr>\n",
       "    <tr>\n",
       "      <th>2</th>\n",
       "      <td>HP</td>\n",
       "      <td>Notebook</td>\n",
       "      <td>15.6</td>\n",
       "      <td>Full HD 1920x1080</td>\n",
       "      <td>Intel Core i5 7200U 2.5GHz</td>\n",
       "      <td>8</td>\n",
       "      <td>256GB SSD</td>\n",
       "      <td>Intel HD Graphics 620</td>\n",
       "      <td>No OS</td>\n",
       "      <td>1.86</td>\n",
       "      <td>30636.0000</td>\n",
       "      <td>0</td>\n",
       "      <td>0</td>\n",
       "      <td>1920</td>\n",
       "      <td>1080</td>\n",
       "    </tr>\n",
       "    <tr>\n",
       "      <th>3</th>\n",
       "      <td>Apple</td>\n",
       "      <td>Ultrabook</td>\n",
       "      <td>15.4</td>\n",
       "      <td>IPS Panel Retina Display 2880x1800</td>\n",
       "      <td>Intel Core i7 2.7GHz</td>\n",
       "      <td>16</td>\n",
       "      <td>512GB SSD</td>\n",
       "      <td>AMD Radeon Pro 455</td>\n",
       "      <td>macOS</td>\n",
       "      <td>1.83</td>\n",
       "      <td>135195.3360</td>\n",
       "      <td>0</td>\n",
       "      <td>1</td>\n",
       "      <td>2880</td>\n",
       "      <td>1800</td>\n",
       "    </tr>\n",
       "    <tr>\n",
       "      <th>4</th>\n",
       "      <td>Apple</td>\n",
       "      <td>Ultrabook</td>\n",
       "      <td>13.3</td>\n",
       "      <td>IPS Panel Retina Display 2560x1600</td>\n",
       "      <td>Intel Core i5 3.1GHz</td>\n",
       "      <td>8</td>\n",
       "      <td>256GB SSD</td>\n",
       "      <td>Intel Iris Plus Graphics 650</td>\n",
       "      <td>macOS</td>\n",
       "      <td>1.37</td>\n",
       "      <td>96095.8080</td>\n",
       "      <td>0</td>\n",
       "      <td>1</td>\n",
       "      <td>2560</td>\n",
       "      <td>1600</td>\n",
       "    </tr>\n",
       "  </tbody>\n",
       "</table>\n",
       "</div>"
      ],
      "text/plain": [
       "  Company   TypeName  Inches                    ScreenResolution  \\\n",
       "0   Apple  Ultrabook    13.3  IPS Panel Retina Display 2560x1600   \n",
       "1   Apple  Ultrabook    13.3                            1440x900   \n",
       "2      HP   Notebook    15.6                   Full HD 1920x1080   \n",
       "3   Apple  Ultrabook    15.4  IPS Panel Retina Display 2880x1800   \n",
       "4   Apple  Ultrabook    13.3  IPS Panel Retina Display 2560x1600   \n",
       "\n",
       "                          Cpu  Ram               Memory  \\\n",
       "0        Intel Core i5 2.3GHz    8            128GB SSD   \n",
       "1        Intel Core i5 1.8GHz    8  128GB Flash Storage   \n",
       "2  Intel Core i5 7200U 2.5GHz    8            256GB SSD   \n",
       "3        Intel Core i7 2.7GHz   16            512GB SSD   \n",
       "4        Intel Core i5 3.1GHz    8            256GB SSD   \n",
       "\n",
       "                            Gpu  OpSys  Weight        Price  Touchscreen  \\\n",
       "0  Intel Iris Plus Graphics 640  macOS    1.37   71378.6832            0   \n",
       "1        Intel HD Graphics 6000  macOS    1.34   47895.5232            0   \n",
       "2         Intel HD Graphics 620  No OS    1.86   30636.0000            0   \n",
       "3            AMD Radeon Pro 455  macOS    1.83  135195.3360            0   \n",
       "4  Intel Iris Plus Graphics 650  macOS    1.37   96095.8080            0   \n",
       "\n",
       "   IPS Panel X_res Y_res  \n",
       "0          1  2560  1600  \n",
       "1          0  1440   900  \n",
       "2          0  1920  1080  \n",
       "3          1  2880  1800  \n",
       "4          1  2560  1600  "
      ]
     },
     "execution_count": 30,
     "metadata": {},
     "output_type": "execute_result"
    }
   ],
   "source": [
    "data.head()"
   ]
  },
  {
   "cell_type": "code",
   "execution_count": 31,
   "id": "5c753845",
   "metadata": {
    "execution": {
     "iopub.execute_input": "2022-12-30T00:24:29.693172Z",
     "iopub.status.busy": "2022-12-30T00:24:29.692702Z",
     "iopub.status.idle": "2022-12-30T00:24:29.700647Z",
     "shell.execute_reply": "2022-12-30T00:24:29.699320Z"
    },
    "papermill": {
     "duration": 0.039767,
     "end_time": "2022-12-30T00:24:29.703249",
     "exception": false,
     "start_time": "2022-12-30T00:24:29.663482",
     "status": "completed"
    },
    "tags": []
   },
   "outputs": [],
   "source": [
    "data['X_res']=data['X_res'].astype('int32')\n",
    "data['Y_res']=data['Y_res'].astype('int32')"
   ]
  },
  {
   "cell_type": "code",
   "execution_count": 32,
   "id": "899bc3ec",
   "metadata": {
    "execution": {
     "iopub.execute_input": "2022-12-30T00:24:29.759959Z",
     "iopub.status.busy": "2022-12-30T00:24:29.759491Z",
     "iopub.status.idle": "2022-12-30T00:24:29.771222Z",
     "shell.execute_reply": "2022-12-30T00:24:29.769780Z"
    },
    "papermill": {
     "duration": 0.043907,
     "end_time": "2022-12-30T00:24:29.773599",
     "exception": false,
     "start_time": "2022-12-30T00:24:29.729692",
     "status": "completed"
    },
    "tags": []
   },
   "outputs": [
    {
     "data": {
      "text/plain": [
       "Inches         0.068197\n",
       "Ram            0.743007\n",
       "Weight         0.210370\n",
       "Price          1.000000\n",
       "Touchscreen    0.191226\n",
       "IPS Panel      0.252208\n",
       "X_res          0.556529\n",
       "Y_res          0.552809\n",
       "Name: Price, dtype: float64"
      ]
     },
     "execution_count": 32,
     "metadata": {},
     "output_type": "execute_result"
    }
   ],
   "source": [
    "data.corr()['Price']\n",
    "#inches is having very slight corr, so we can use ppi inc 3 features"
   ]
  },
  {
   "cell_type": "code",
   "execution_count": 33,
   "id": "36f1d79b",
   "metadata": {
    "execution": {
     "iopub.execute_input": "2022-12-30T00:24:29.830562Z",
     "iopub.status.busy": "2022-12-30T00:24:29.829281Z",
     "iopub.status.idle": "2022-12-30T00:24:29.838511Z",
     "shell.execute_reply": "2022-12-30T00:24:29.837043Z"
    },
    "papermill": {
     "duration": 0.040557,
     "end_time": "2022-12-30T00:24:29.841794",
     "exception": false,
     "start_time": "2022-12-30T00:24:29.801237",
     "status": "completed"
    },
    "tags": []
   },
   "outputs": [],
   "source": [
    "data['PPI']=((data['X_res']**2+data['Y_res']**2)**0.5)/data['Inches']"
   ]
  },
  {
   "cell_type": "code",
   "execution_count": 34,
   "id": "b2732cf8",
   "metadata": {
    "execution": {
     "iopub.execute_input": "2022-12-30T00:24:29.897894Z",
     "iopub.status.busy": "2022-12-30T00:24:29.897094Z",
     "iopub.status.idle": "2022-12-30T00:24:29.907290Z",
     "shell.execute_reply": "2022-12-30T00:24:29.905873Z"
    },
    "papermill": {
     "duration": 0.040942,
     "end_time": "2022-12-30T00:24:29.909649",
     "exception": false,
     "start_time": "2022-12-30T00:24:29.868707",
     "status": "completed"
    },
    "tags": []
   },
   "outputs": [
    {
     "data": {
      "text/plain": [
       "Inches         0.068197\n",
       "Ram            0.743007\n",
       "Weight         0.210370\n",
       "Price          1.000000\n",
       "Touchscreen    0.191226\n",
       "IPS Panel      0.252208\n",
       "X_res          0.556529\n",
       "Y_res          0.552809\n",
       "PPI            0.473487\n",
       "Name: Price, dtype: float64"
      ]
     },
     "execution_count": 34,
     "metadata": {},
     "output_type": "execute_result"
    }
   ],
   "source": [
    "data.corr()['Price']"
   ]
  },
  {
   "cell_type": "code",
   "execution_count": 35,
   "id": "5706e25f",
   "metadata": {
    "execution": {
     "iopub.execute_input": "2022-12-30T00:24:29.967809Z",
     "iopub.status.busy": "2022-12-30T00:24:29.966648Z",
     "iopub.status.idle": "2022-12-30T00:24:29.976487Z",
     "shell.execute_reply": "2022-12-30T00:24:29.975358Z"
    },
    "papermill": {
     "duration": 0.041433,
     "end_time": "2022-12-30T00:24:29.979118",
     "exception": false,
     "start_time": "2022-12-30T00:24:29.937685",
     "status": "completed"
    },
    "tags": []
   },
   "outputs": [],
   "source": [
    "data.drop(columns=['ScreenResolution'],inplace=True)"
   ]
  },
  {
   "cell_type": "code",
   "execution_count": 36,
   "id": "f7242dd9",
   "metadata": {
    "execution": {
     "iopub.execute_input": "2022-12-30T00:24:30.035857Z",
     "iopub.status.busy": "2022-12-30T00:24:30.035372Z",
     "iopub.status.idle": "2022-12-30T00:24:30.043480Z",
     "shell.execute_reply": "2022-12-30T00:24:30.041902Z"
    },
    "papermill": {
     "duration": 0.040464,
     "end_time": "2022-12-30T00:24:30.046256",
     "exception": false,
     "start_time": "2022-12-30T00:24:30.005792",
     "status": "completed"
    },
    "tags": []
   },
   "outputs": [],
   "source": [
    "data.drop(columns=['Inches','X_res','Y_res'],inplace=True)"
   ]
  },
  {
   "cell_type": "code",
   "execution_count": 37,
   "id": "22000fea",
   "metadata": {
    "execution": {
     "iopub.execute_input": "2022-12-30T00:24:30.104268Z",
     "iopub.status.busy": "2022-12-30T00:24:30.103800Z",
     "iopub.status.idle": "2022-12-30T00:24:30.115425Z",
     "shell.execute_reply": "2022-12-30T00:24:30.114025Z"
    },
    "papermill": {
     "duration": 0.043572,
     "end_time": "2022-12-30T00:24:30.117986",
     "exception": false,
     "start_time": "2022-12-30T00:24:30.074414",
     "status": "completed"
    },
    "tags": []
   },
   "outputs": [
    {
     "data": {
      "text/plain": [
       "Intel Core i5 7200U 2.5GHz       190\n",
       "Intel Core i7 7700HQ 2.8GHz      146\n",
       "Intel Core i7 7500U 2.7GHz       134\n",
       "Intel Core i7 8550U 1.8GHz        73\n",
       "Intel Core i5 8250U 1.6GHz        72\n",
       "                                ... \n",
       "Intel Core M M3-6Y30 0.9GHz        1\n",
       "AMD A9-Series 9420 2.9GHz          1\n",
       "Intel Core i3 6006U 2.2GHz         1\n",
       "AMD A6-Series 7310 2GHz            1\n",
       "Intel Xeon E3-1535M v6 3.1GHz      1\n",
       "Name: Cpu, Length: 118, dtype: int64"
      ]
     },
     "execution_count": 37,
     "metadata": {},
     "output_type": "execute_result"
    }
   ],
   "source": [
    "data['Cpu'].value_counts()"
   ]
  },
  {
   "cell_type": "code",
   "execution_count": 38,
   "id": "26ea6425",
   "metadata": {
    "execution": {
     "iopub.execute_input": "2022-12-30T00:24:30.178716Z",
     "iopub.status.busy": "2022-12-30T00:24:30.178121Z",
     "iopub.status.idle": "2022-12-30T00:24:30.193331Z",
     "shell.execute_reply": "2022-12-30T00:24:30.191994Z"
    },
    "papermill": {
     "duration": 0.048859,
     "end_time": "2022-12-30T00:24:30.195908",
     "exception": false,
     "start_time": "2022-12-30T00:24:30.147049",
     "status": "completed"
    },
    "tags": []
   },
   "outputs": [
    {
     "data": {
      "text/plain": [
       "0                         [Intel, Core, i5, 2.3GHz]\n",
       "1                         [Intel, Core, i5, 1.8GHz]\n",
       "2                  [Intel, Core, i5, 7200U, 2.5GHz]\n",
       "3                         [Intel, Core, i7, 2.7GHz]\n",
       "4                         [Intel, Core, i5, 3.1GHz]\n",
       "                           ...                     \n",
       "1298               [Intel, Core, i7, 6500U, 2.5GHz]\n",
       "1299               [Intel, Core, i7, 6500U, 2.5GHz]\n",
       "1300    [Intel, Celeron, Dual, Core, N3050, 1.6GHz]\n",
       "1301               [Intel, Core, i7, 6500U, 2.5GHz]\n",
       "1302    [Intel, Celeron, Dual, Core, N3050, 1.6GHz]\n",
       "Name: Cpu, Length: 1303, dtype: object"
      ]
     },
     "execution_count": 38,
     "metadata": {},
     "output_type": "execute_result"
    }
   ],
   "source": [
    "data['Cpu'].apply(lambda x:x.split())"
   ]
  },
  {
   "cell_type": "code",
   "execution_count": 39,
   "id": "0f44fd74",
   "metadata": {
    "execution": {
     "iopub.execute_input": "2022-12-30T00:24:30.251897Z",
     "iopub.status.busy": "2022-12-30T00:24:30.251484Z",
     "iopub.status.idle": "2022-12-30T00:24:30.260472Z",
     "shell.execute_reply": "2022-12-30T00:24:30.259150Z"
    },
    "papermill": {
     "duration": 0.039799,
     "end_time": "2022-12-30T00:24:30.263118",
     "exception": false,
     "start_time": "2022-12-30T00:24:30.223319",
     "status": "completed"
    },
    "tags": []
   },
   "outputs": [],
   "source": [
    "data['Cpu Name'] = data['Cpu'].apply(lambda x:\" \".join(x.split()[0:3]))"
   ]
  },
  {
   "cell_type": "code",
   "execution_count": 40,
   "id": "83aa842c",
   "metadata": {
    "execution": {
     "iopub.execute_input": "2022-12-30T00:24:30.325967Z",
     "iopub.status.busy": "2022-12-30T00:24:30.325253Z",
     "iopub.status.idle": "2022-12-30T00:24:30.331265Z",
     "shell.execute_reply": "2022-12-30T00:24:30.330103Z"
    },
    "papermill": {
     "duration": 0.040415,
     "end_time": "2022-12-30T00:24:30.333848",
     "exception": false,
     "start_time": "2022-12-30T00:24:30.293433",
     "status": "completed"
    },
    "tags": []
   },
   "outputs": [],
   "source": [
    "def fetch_processor(text):\n",
    "    if text == 'Intel Core i7' or text == 'Intel Core i5' or text == 'Intel Core i3':\n",
    "        return text\n",
    "    else:\n",
    "        if text.split()[0] == 'Intel':\n",
    "            return 'Other Intel Processor'\n",
    "        else:\n",
    "            return 'AMD Processor'"
   ]
  },
  {
   "cell_type": "code",
   "execution_count": 41,
   "id": "df5b97ff",
   "metadata": {
    "execution": {
     "iopub.execute_input": "2022-12-30T00:24:30.394910Z",
     "iopub.status.busy": "2022-12-30T00:24:30.394507Z",
     "iopub.status.idle": "2022-12-30T00:24:30.401874Z",
     "shell.execute_reply": "2022-12-30T00:24:30.400434Z"
    },
    "papermill": {
     "duration": 0.040654,
     "end_time": "2022-12-30T00:24:30.404348",
     "exception": false,
     "start_time": "2022-12-30T00:24:30.363694",
     "status": "completed"
    },
    "tags": []
   },
   "outputs": [],
   "source": [
    "data['Cpu brand'] = data['Cpu Name'].apply(fetch_processor)"
   ]
  },
  {
   "cell_type": "code",
   "execution_count": 42,
   "id": "0db4a751",
   "metadata": {
    "execution": {
     "iopub.execute_input": "2022-12-30T00:24:30.464200Z",
     "iopub.status.busy": "2022-12-30T00:24:30.463728Z",
     "iopub.status.idle": "2022-12-30T00:24:30.683691Z",
     "shell.execute_reply": "2022-12-30T00:24:30.682220Z"
    },
    "papermill": {
     "duration": 0.255152,
     "end_time": "2022-12-30T00:24:30.686815",
     "exception": false,
     "start_time": "2022-12-30T00:24:30.431663",
     "status": "completed"
    },
    "tags": []
   },
   "outputs": [
    {
     "data": {
      "text/plain": [
       "<AxesSubplot:>"
      ]
     },
     "execution_count": 42,
     "metadata": {},
     "output_type": "execute_result"
    },
    {
     "data": {
      "image/png": "[encoded data removed]",
      "text/plain": [
       "<Figure size 432x288 with 1 Axes>"
      ]
     },
     "metadata": {
      "needs_background": "light"
     },
     "output_type": "display_data"
    }
   ],
   "source": [
    "data['Cpu brand'].value_counts().plot(kind='bar')"
   ]
  },
  {
   "cell_type": "code",
   "execution_count": 43,
   "id": "25b002cb",
   "metadata": {
    "execution": {
     "iopub.execute_input": "2022-12-30T00:24:30.747697Z",
     "iopub.status.busy": "2022-12-30T00:24:30.747283Z",
     "iopub.status.idle": "2022-12-30T00:24:31.086124Z",
     "shell.execute_reply": "2022-12-30T00:24:31.084891Z"
    },
    "papermill": {
     "duration": 0.371367,
     "end_time": "2022-12-30T00:24:31.088557",
     "exception": false,
     "start_time": "2022-12-30T00:24:30.717190",
     "status": "completed"
    },
    "tags": []
   },
   "outputs": [
    {
     "data": {
      "image/png": "[encoded data removed]",
      "text/plain": [
       "<Figure size 432x288 with 1 Axes>"
      ]
     },
     "metadata": {
      "needs_background": "light"
     },
     "output_type": "display_data"
    }
   ],
   "source": [
    "sns.barplot(x=data['Cpu brand'],y=data['Price'])\n",
    "plt.xticks(rotation='vertical')\n",
    "plt.show()"
   ]
  },
  {
   "cell_type": "code",
   "execution_count": 44,
   "id": "c2e872c1",
   "metadata": {
    "execution": {
     "iopub.execute_input": "2022-12-30T00:24:31.145497Z",
     "iopub.status.busy": "2022-12-30T00:24:31.144779Z",
     "iopub.status.idle": "2022-12-30T00:24:31.152355Z",
     "shell.execute_reply": "2022-12-30T00:24:31.151421Z"
    },
    "papermill": {
     "duration": 0.038653,
     "end_time": "2022-12-30T00:24:31.154792",
     "exception": false,
     "start_time": "2022-12-30T00:24:31.116139",
     "status": "completed"
    },
    "tags": []
   },
   "outputs": [],
   "source": [
    "data.drop(columns=['Cpu','Cpu Name'],inplace=True)"
   ]
  },
  {
   "cell_type": "code",
   "execution_count": 45,
   "id": "b02ca6e0",
   "metadata": {
    "execution": {
     "iopub.execute_input": "2022-12-30T00:24:31.214436Z",
     "iopub.status.busy": "2022-12-30T00:24:31.213995Z",
     "iopub.status.idle": "2022-12-30T00:24:31.457076Z",
     "shell.execute_reply": "2022-12-30T00:24:31.455644Z"
    },
    "papermill": {
     "duration": 0.277203,
     "end_time": "2022-12-30T00:24:31.459793",
     "exception": false,
     "start_time": "2022-12-30T00:24:31.182590",
     "status": "completed"
    },
    "tags": []
   },
   "outputs": [
    {
     "data": {
      "text/plain": [
       "<AxesSubplot:>"
      ]
     },
     "execution_count": 45,
     "metadata": {},
     "output_type": "execute_result"
    },
    {
     "data": {
      "image/png": "[encoded data removed]",
      "text/plain": [
       "<Figure size 432x288 with 1 Axes>"
      ]
     },
     "metadata": {
      "needs_background": "light"
     },
     "output_type": "display_data"
    }
   ],
   "source": [
    "data['Ram'].value_counts().plot(kind='bar')"
   ]
  },
  {
   "cell_type": "code",
   "execution_count": 46,
   "id": "aa426cbd",
   "metadata": {
    "execution": {
     "iopub.execute_input": "2022-12-30T00:24:31.521060Z",
     "iopub.status.busy": "2022-12-30T00:24:31.520197Z",
     "iopub.status.idle": "2022-12-30T00:24:32.115603Z",
     "shell.execute_reply": "2022-12-30T00:24:32.114379Z"
    },
    "papermill": {
     "duration": 0.627976,
     "end_time": "2022-12-30T00:24:32.118162",
     "exception": false,
     "start_time": "2022-12-30T00:24:31.490186",
     "status": "completed"
    },
    "tags": []
   },
   "outputs": [
    {
     "data": {
      "image/png": "[encoded data removed]",
      "text/plain": [
       "<Figure size 432x288 with 1 Axes>"
      ]
     },
     "metadata": {
      "needs_background": "light"
     },
     "output_type": "display_data"
    }
   ],
   "source": [
    "sns.barplot(x=data['Ram'],y=data['Price'])\n",
    "plt.xticks(rotation='vertical')\n",
    "plt.show()"
   ]
  },
  {
   "cell_type": "code",
   "execution_count": 47,
   "id": "39f970bc",
   "metadata": {
    "execution": {
     "iopub.execute_input": "2022-12-30T00:24:32.175529Z",
     "iopub.status.busy": "2022-12-30T00:24:32.175053Z",
     "iopub.status.idle": "2022-12-30T00:24:32.185807Z",
     "shell.execute_reply": "2022-12-30T00:24:32.184556Z"
    },
    "papermill": {
     "duration": 0.042362,
     "end_time": "2022-12-30T00:24:32.188374",
     "exception": false,
     "start_time": "2022-12-30T00:24:32.146012",
     "status": "completed"
    },
    "tags": []
   },
   "outputs": [
    {
     "data": {
      "text/plain": [
       "256GB SSD                        412\n",
       "1TB HDD                          223\n",
       "500GB HDD                        132\n",
       "512GB SSD                        118\n",
       "128GB SSD +  1TB HDD              94\n",
       "128GB SSD                         76\n",
       "256GB SSD +  1TB HDD              73\n",
       "32GB Flash Storage                38\n",
       "2TB HDD                           16\n",
       "64GB Flash Storage                15\n",
       "512GB SSD +  1TB HDD              14\n",
       "1TB SSD                           14\n",
       "256GB SSD +  2TB HDD              10\n",
       "1.0TB Hybrid                       9\n",
       "256GB Flash Storage                8\n",
       "16GB Flash Storage                 7\n",
       "32GB SSD                           6\n",
       "180GB SSD                          5\n",
       "128GB Flash Storage                4\n",
       "512GB SSD +  2TB HDD               3\n",
       "16GB SSD                           3\n",
       "512GB Flash Storage                2\n",
       "1TB SSD +  1TB HDD                 2\n",
       "256GB SSD +  500GB HDD             2\n",
       "128GB SSD +  2TB HDD               2\n",
       "256GB SSD +  256GB SSD             2\n",
       "512GB SSD +  256GB SSD             1\n",
       "512GB SSD +  512GB SSD             1\n",
       "64GB Flash Storage +  1TB HDD      1\n",
       "1TB HDD +  1TB HDD                 1\n",
       "32GB HDD                           1\n",
       "64GB SSD                           1\n",
       "128GB HDD                          1\n",
       "240GB SSD                          1\n",
       "8GB SSD                            1\n",
       "508GB Hybrid                       1\n",
       "1.0TB HDD                          1\n",
       "512GB SSD +  1.0TB Hybrid          1\n",
       "256GB SSD +  1.0TB Hybrid          1\n",
       "Name: Memory, dtype: int64"
      ]
     },
     "execution_count": 47,
     "metadata": {},
     "output_type": "execute_result"
    }
   ],
   "source": [
    "data['Memory'].value_counts()"
   ]
  },
  {
   "cell_type": "code",
   "execution_count": 48,
   "id": "c06b3138",
   "metadata": {
    "execution": {
     "iopub.execute_input": "2022-12-30T00:24:32.246999Z",
     "iopub.status.busy": "2022-12-30T00:24:32.246121Z",
     "iopub.status.idle": "2022-12-30T00:24:32.297817Z",
     "shell.execute_reply": "2022-12-30T00:24:32.296342Z"
    },
    "papermill": {
     "duration": 0.083785,
     "end_time": "2022-12-30T00:24:32.300703",
     "exception": false,
     "start_time": "2022-12-30T00:24:32.216918",
     "status": "completed"
    },
    "tags": []
   },
   "outputs": [
    {
     "name": "stderr",
     "output_type": "stream",
     "text": [
      "/opt/conda/lib/python3.7/site-packages/ipykernel_launcher.py:16: FutureWarning: The default value of regex will change from True to False in a future version.\n",
      "  \n",
      "/opt/conda/lib/python3.7/site-packages/ipykernel_launcher.py:25: FutureWarning: The default value of regex will change from True to False in a future version.\n"
     ]
    }
   ],
   "source": [
    "data['Memory'] = data['Memory'].astype(str).replace('\\.0', '', regex=True)\n",
    "data[\"Memory\"] = data[\"Memory\"].str.replace('GB', '')\n",
    "data[\"Memory\"] = data[\"Memory\"].str.replace('TB', '000')\n",
    "new = data[\"Memory\"].str.split(\"+\", n = 1, expand = True)\n",
    "\n",
    "data[\"first\"]= new[0]\n",
    "data[\"first\"]=data[\"first\"].str.strip()\n",
    "\n",
    "data[\"second\"]= new[1]\n",
    "\n",
    "data[\"Layer1HDD\"] = data[\"first\"].apply(lambda x: 1 if \"HDD\" in x else 0)\n",
    "data[\"Layer1SSD\"] = data[\"first\"].apply(lambda x: 1 if \"SSD\" in x else 0)\n",
    "data[\"Layer1Hybrid\"] = data[\"first\"].apply(lambda x: 1 if \"Hybrid\" in x else 0)\n",
    "data[\"Layer1Flash_Storage\"] = data[\"first\"].apply(lambda x: 1 if \"Flash Storage\" in x else 0)\n",
    "\n",
    "data['first'] = data['first'].str.replace(r'\\D', '')\n",
    "\n",
    "data[\"second\"].fillna(\"0\", inplace = True)\n",
    "\n",
    "data[\"Layer2HDD\"] = data[\"second\"].apply(lambda x: 1 if \"HDD\" in x else 0)\n",
    "data[\"Layer2SSD\"] = data[\"second\"].apply(lambda x: 1 if \"SSD\" in x else 0)\n",
    "data[\"Layer2Hybrid\"] = data[\"second\"].apply(lambda x: 1 if \"Hybrid\" in x else 0)\n",
    "data[\"Layer2Flash_Storage\"] = data[\"second\"].apply(lambda x: 1 if \"Flash Storage\" in x else 0)\n",
    "\n",
    "data['second'] = data['second'].str.replace(r'\\D', '')\n",
    "\n",
    "data[\"first\"] = data[\"first\"].astype(int)\n",
    "data[\"second\"] = data[\"second\"].astype(int)\n",
    "\n",
    "data[\"HDD\"]=(data[\"first\"]*data[\"Layer1HDD\"]+data[\"second\"]*data[\"Layer2HDD\"])\n",
    "data[\"SSD\"]=(data[\"first\"]*data[\"Layer1SSD\"]+data[\"second\"]*data[\"Layer2SSD\"])\n",
    "data[\"Hybrid\"]=(data[\"first\"]*data[\"Layer1Hybrid\"]+data[\"second\"]*data[\"Layer2Hybrid\"])\n",
    "data[\"Flash_Storage\"]=(data[\"first\"]*data[\"Layer1Flash_Storage\"]+data[\"second\"]*data[\"Layer2Flash_Storage\"])\n",
    "\n",
    "data.drop(columns=['first', 'second', 'Layer1HDD', 'Layer1SSD', 'Layer1Hybrid',\n",
    "       'Layer1Flash_Storage', 'Layer2HDD', 'Layer2SSD', 'Layer2Hybrid',\n",
    "       'Layer2Flash_Storage'],inplace=True)"
   ]
  },
  {
   "cell_type": "code",
   "execution_count": 49,
   "id": "f5e20216",
   "metadata": {
    "execution": {
     "iopub.execute_input": "2022-12-30T00:24:32.359132Z",
     "iopub.status.busy": "2022-12-30T00:24:32.358367Z",
     "iopub.status.idle": "2022-12-30T00:24:32.364470Z",
     "shell.execute_reply": "2022-12-30T00:24:32.363492Z"
    },
    "papermill": {
     "duration": 0.038217,
     "end_time": "2022-12-30T00:24:32.366848",
     "exception": false,
     "start_time": "2022-12-30T00:24:32.328631",
     "status": "completed"
    },
    "tags": []
   },
   "outputs": [],
   "source": [
    "data.drop(columns=['Memory'],inplace=True)"
   ]
  },
  {
   "cell_type": "code",
   "execution_count": 50,
   "id": "b2df56bd",
   "metadata": {
    "execution": {
     "iopub.execute_input": "2022-12-30T00:24:32.425900Z",
     "iopub.status.busy": "2022-12-30T00:24:32.425209Z",
     "iopub.status.idle": "2022-12-30T00:24:32.444122Z",
     "shell.execute_reply": "2022-12-30T00:24:32.443015Z"
    },
    "papermill": {
     "duration": 0.051485,
     "end_time": "2022-12-30T00:24:32.446586",
     "exception": false,
     "start_time": "2022-12-30T00:24:32.395101",
     "status": "completed"
    },
    "tags": []
   },
   "outputs": [
    {
     "data": {
      "text/html": [
       "<div>\n",
       "<style scoped>\n",
       "    .dataframe tbody tr th:only-of-type {\n",
       "        vertical-align: middle;\n",
       "    }\n",
       "\n",
       "    .dataframe tbody tr th {\n",
       "        vertical-align: top;\n",
       "    }\n",
       "\n",
       "    .dataframe thead th {\n",
       "        text-align: right;\n",
       "    }\n",
       "</style>\n",
       "<table border=\"1\" class=\"dataframe\">\n",
       "  <thead>\n",
       "    <tr style=\"text-align: right;\">\n",
       "      <th></th>\n",
       "      <th>Company</th>\n",
       "      <th>TypeName</th>\n",
       "      <th>Ram</th>\n",
       "      <th>Gpu</th>\n",
       "      <th>OpSys</th>\n",
       "      <th>Weight</th>\n",
       "      <th>Price</th>\n",
       "      <th>Touchscreen</th>\n",
       "      <th>IPS Panel</th>\n",
       "      <th>PPI</th>\n",
       "      <th>Cpu brand</th>\n",
       "      <th>HDD</th>\n",
       "      <th>SSD</th>\n",
       "      <th>Hybrid</th>\n",
       "      <th>Flash_Storage</th>\n",
       "    </tr>\n",
       "  </thead>\n",
       "  <tbody>\n",
       "    <tr>\n",
       "      <th>0</th>\n",
       "      <td>Apple</td>\n",
       "      <td>Ultrabook</td>\n",
       "      <td>8</td>\n",
       "      <td>Intel Iris Plus Graphics 640</td>\n",
       "      <td>macOS</td>\n",
       "      <td>1.37</td>\n",
       "      <td>71378.6832</td>\n",
       "      <td>0</td>\n",
       "      <td>1</td>\n",
       "      <td>226.983005</td>\n",
       "      <td>Intel Core i5</td>\n",
       "      <td>0</td>\n",
       "      <td>128</td>\n",
       "      <td>0</td>\n",
       "      <td>0</td>\n",
       "    </tr>\n",
       "    <tr>\n",
       "      <th>1</th>\n",
       "      <td>Apple</td>\n",
       "      <td>Ultrabook</td>\n",
       "      <td>8</td>\n",
       "      <td>Intel HD Graphics 6000</td>\n",
       "      <td>macOS</td>\n",
       "      <td>1.34</td>\n",
       "      <td>47895.5232</td>\n",
       "      <td>0</td>\n",
       "      <td>0</td>\n",
       "      <td>127.677940</td>\n",
       "      <td>Intel Core i5</td>\n",
       "      <td>0</td>\n",
       "      <td>0</td>\n",
       "      <td>0</td>\n",
       "      <td>128</td>\n",
       "    </tr>\n",
       "    <tr>\n",
       "      <th>2</th>\n",
       "      <td>HP</td>\n",
       "      <td>Notebook</td>\n",
       "      <td>8</td>\n",
       "      <td>Intel HD Graphics 620</td>\n",
       "      <td>No OS</td>\n",
       "      <td>1.86</td>\n",
       "      <td>30636.0000</td>\n",
       "      <td>0</td>\n",
       "      <td>0</td>\n",
       "      <td>141.211998</td>\n",
       "      <td>Intel Core i5</td>\n",
       "      <td>0</td>\n",
       "      <td>256</td>\n",
       "      <td>0</td>\n",
       "      <td>0</td>\n",
       "    </tr>\n",
       "    <tr>\n",
       "      <th>3</th>\n",
       "      <td>Apple</td>\n",
       "      <td>Ultrabook</td>\n",
       "      <td>16</td>\n",
       "      <td>AMD Radeon Pro 455</td>\n",
       "      <td>macOS</td>\n",
       "      <td>1.83</td>\n",
       "      <td>135195.3360</td>\n",
       "      <td>0</td>\n",
       "      <td>1</td>\n",
       "      <td>220.534624</td>\n",
       "      <td>Intel Core i7</td>\n",
       "      <td>0</td>\n",
       "      <td>512</td>\n",
       "      <td>0</td>\n",
       "      <td>0</td>\n",
       "    </tr>\n",
       "    <tr>\n",
       "      <th>4</th>\n",
       "      <td>Apple</td>\n",
       "      <td>Ultrabook</td>\n",
       "      <td>8</td>\n",
       "      <td>Intel Iris Plus Graphics 650</td>\n",
       "      <td>macOS</td>\n",
       "      <td>1.37</td>\n",
       "      <td>96095.8080</td>\n",
       "      <td>0</td>\n",
       "      <td>1</td>\n",
       "      <td>226.983005</td>\n",
       "      <td>Intel Core i5</td>\n",
       "      <td>0</td>\n",
       "      <td>256</td>\n",
       "      <td>0</td>\n",
       "      <td>0</td>\n",
       "    </tr>\n",
       "  </tbody>\n",
       "</table>\n",
       "</div>"
      ],
      "text/plain": [
       "  Company   TypeName  Ram                           Gpu  OpSys  Weight  \\\n",
       "0   Apple  Ultrabook    8  Intel Iris Plus Graphics 640  macOS    1.37   \n",
       "1   Apple  Ultrabook    8        Intel HD Graphics 6000  macOS    1.34   \n",
       "2      HP   Notebook    8         Intel HD Graphics 620  No OS    1.86   \n",
       "3   Apple  Ultrabook   16            AMD Radeon Pro 455  macOS    1.83   \n",
       "4   Apple  Ultrabook    8  Intel Iris Plus Graphics 650  macOS    1.37   \n",
       "\n",
       "         Price  Touchscreen  IPS Panel         PPI      Cpu brand  HDD  SSD  \\\n",
       "0   71378.6832            0          1  226.983005  Intel Core i5    0  128   \n",
       "1   47895.5232            0          0  127.677940  Intel Core i5    0    0   \n",
       "2   30636.0000            0          0  141.211998  Intel Core i5    0  256   \n",
       "3  135195.3360            0          1  220.534624  Intel Core i7    0  512   \n",
       "4   96095.8080            0          1  226.983005  Intel Core i5    0  256   \n",
       "\n",
       "   Hybrid  Flash_Storage  \n",
       "0       0              0  \n",
       "1       0            128  \n",
       "2       0              0  \n",
       "3       0              0  \n",
       "4       0              0  "
      ]
     },
     "execution_count": 50,
     "metadata": {},
     "output_type": "execute_result"
    }
   ],
   "source": [
    "data.head()"
   ]
  },
  {
   "cell_type": "code",
   "execution_count": 51,
   "id": "1d703634",
   "metadata": {
    "execution": {
     "iopub.execute_input": "2022-12-30T00:24:32.506041Z",
     "iopub.status.busy": "2022-12-30T00:24:32.505310Z",
     "iopub.status.idle": "2022-12-30T00:24:32.514809Z",
     "shell.execute_reply": "2022-12-30T00:24:32.513572Z"
    },
    "papermill": {
     "duration": 0.042534,
     "end_time": "2022-12-30T00:24:32.517452",
     "exception": false,
     "start_time": "2022-12-30T00:24:32.474918",
     "status": "completed"
    },
    "tags": []
   },
   "outputs": [
    {
     "data": {
      "text/plain": [
       "Ram              0.743007\n",
       "Weight           0.210370\n",
       "Price            1.000000\n",
       "Touchscreen      0.191226\n",
       "IPS Panel        0.252208\n",
       "PPI              0.473487\n",
       "HDD             -0.096441\n",
       "SSD              0.670799\n",
       "Hybrid           0.007989\n",
       "Flash_Storage   -0.040511\n",
       "Name: Price, dtype: float64"
      ]
     },
     "execution_count": 51,
     "metadata": {},
     "output_type": "execute_result"
    }
   ],
   "source": [
    "data.corr()['Price']"
   ]
  },
  {
   "cell_type": "code",
   "execution_count": 52,
   "id": "4df78052",
   "metadata": {
    "execution": {
     "iopub.execute_input": "2022-12-30T00:24:32.577361Z",
     "iopub.status.busy": "2022-12-30T00:24:32.576886Z",
     "iopub.status.idle": "2022-12-30T00:24:32.583997Z",
     "shell.execute_reply": "2022-12-30T00:24:32.582759Z"
    },
    "papermill": {
     "duration": 0.039912,
     "end_time": "2022-12-30T00:24:32.586498",
     "exception": false,
     "start_time": "2022-12-30T00:24:32.546586",
     "status": "completed"
    },
    "tags": []
   },
   "outputs": [],
   "source": [
    "data.drop(columns=['Hybrid','Flash_Storage'],inplace=True)"
   ]
  },
  {
   "cell_type": "code",
   "execution_count": 53,
   "id": "67253620",
   "metadata": {
    "execution": {
     "iopub.execute_input": "2022-12-30T00:24:32.646416Z",
     "iopub.status.busy": "2022-12-30T00:24:32.645952Z",
     "iopub.status.idle": "2022-12-30T00:24:32.656529Z",
     "shell.execute_reply": "2022-12-30T00:24:32.655264Z"
    },
    "papermill": {
     "duration": 0.044506,
     "end_time": "2022-12-30T00:24:32.659388",
     "exception": false,
     "start_time": "2022-12-30T00:24:32.614882",
     "status": "completed"
    },
    "tags": []
   },
   "outputs": [
    {
     "data": {
      "text/plain": [
       "Intel HD Graphics 620      281\n",
       "Intel HD Graphics 520      185\n",
       "Intel UHD Graphics 620      68\n",
       "Nvidia GeForce GTX 1050     66\n",
       "Nvidia GeForce GTX 1060     48\n",
       "                          ... \n",
       "AMD Radeon R5 520            1\n",
       "AMD Radeon R7                1\n",
       "Intel HD Graphics 540        1\n",
       "AMD Radeon 540               1\n",
       "ARM Mali T860 MP4            1\n",
       "Name: Gpu, Length: 110, dtype: int64"
      ]
     },
     "execution_count": 53,
     "metadata": {},
     "output_type": "execute_result"
    }
   ],
   "source": [
    "data['Gpu'].value_counts()"
   ]
  },
  {
   "cell_type": "code",
   "execution_count": 54,
   "id": "19710280",
   "metadata": {
    "execution": {
     "iopub.execute_input": "2022-12-30T00:24:32.720621Z",
     "iopub.status.busy": "2022-12-30T00:24:32.720170Z",
     "iopub.status.idle": "2022-12-30T00:24:32.727314Z",
     "shell.execute_reply": "2022-12-30T00:24:32.726123Z"
    },
    "papermill": {
     "duration": 0.040904,
     "end_time": "2022-12-30T00:24:32.730095",
     "exception": false,
     "start_time": "2022-12-30T00:24:32.689191",
     "status": "completed"
    },
    "tags": []
   },
   "outputs": [],
   "source": [
    "data['Gpu brand'] = data['Gpu'].apply(lambda x:x.split()[0])"
   ]
  },
  {
   "cell_type": "code",
   "execution_count": 55,
   "id": "9198dfd1",
   "metadata": {
    "execution": {
     "iopub.execute_input": "2022-12-30T00:24:32.789662Z",
     "iopub.status.busy": "2022-12-30T00:24:32.789208Z",
     "iopub.status.idle": "2022-12-30T00:24:32.799496Z",
     "shell.execute_reply": "2022-12-30T00:24:32.798246Z"
    },
    "papermill": {
     "duration": 0.043306,
     "end_time": "2022-12-30T00:24:32.802216",
     "exception": false,
     "start_time": "2022-12-30T00:24:32.758910",
     "status": "completed"
    },
    "tags": []
   },
   "outputs": [
    {
     "data": {
      "text/plain": [
       "Intel     722\n",
       "Nvidia    400\n",
       "AMD       180\n",
       "ARM         1\n",
       "Name: Gpu brand, dtype: int64"
      ]
     },
     "execution_count": 55,
     "metadata": {},
     "output_type": "execute_result"
    }
   ],
   "source": [
    "data['Gpu brand'].value_counts()"
   ]
  },
  {
   "cell_type": "code",
   "execution_count": 56,
   "id": "92853494",
   "metadata": {
    "execution": {
     "iopub.execute_input": "2022-12-30T00:24:32.864213Z",
     "iopub.status.busy": "2022-12-30T00:24:32.863737Z",
     "iopub.status.idle": "2022-12-30T00:24:32.870991Z",
     "shell.execute_reply": "2022-12-30T00:24:32.870056Z"
    },
    "papermill": {
     "duration": 0.041496,
     "end_time": "2022-12-30T00:24:32.873292",
     "exception": false,
     "start_time": "2022-12-30T00:24:32.831796",
     "status": "completed"
    },
    "tags": []
   },
   "outputs": [],
   "source": [
    "data = data[data['Gpu brand'] != 'ARM']"
   ]
  },
  {
   "cell_type": "code",
   "execution_count": 57,
   "id": "65cc8291",
   "metadata": {
    "execution": {
     "iopub.execute_input": "2022-12-30T00:24:32.934158Z",
     "iopub.status.busy": "2022-12-30T00:24:32.932942Z",
     "iopub.status.idle": "2022-12-30T00:24:32.942490Z",
     "shell.execute_reply": "2022-12-30T00:24:32.941538Z"
    },
    "papermill": {
     "duration": 0.043315,
     "end_time": "2022-12-30T00:24:32.945344",
     "exception": false,
     "start_time": "2022-12-30T00:24:32.902029",
     "status": "completed"
    },
    "tags": []
   },
   "outputs": [
    {
     "data": {
      "text/plain": [
       "Intel     722\n",
       "Nvidia    400\n",
       "AMD       180\n",
       "Name: Gpu brand, dtype: int64"
      ]
     },
     "execution_count": 57,
     "metadata": {},
     "output_type": "execute_result"
    }
   ],
   "source": [
    "data['Gpu brand'].value_counts()"
   ]
  },
  {
   "cell_type": "code",
   "execution_count": 58,
   "id": "c61dcff6",
   "metadata": {
    "execution": {
     "iopub.execute_input": "2022-12-30T00:24:33.009283Z",
     "iopub.status.busy": "2022-12-30T00:24:33.008817Z",
     "iopub.status.idle": "2022-12-30T00:24:33.291506Z",
     "shell.execute_reply": "2022-12-30T00:24:33.290290Z"
    },
    "papermill": {
     "duration": 0.315481,
     "end_time": "2022-12-30T00:24:33.294209",
     "exception": false,
     "start_time": "2022-12-30T00:24:32.978728",
     "status": "completed"
    },
    "tags": []
   },
   "outputs": [
    {
     "data": {
      "image/png": "[encoded data removed]",
      "text/plain": [
       "<Figure size 432x288 with 1 Axes>"
      ]
     },
     "metadata": {
      "needs_background": "light"
     },
     "output_type": "display_data"
    }
   ],
   "source": [
    "sns.barplot(x=data['Gpu brand'],y=data['Price'])\n",
    "plt.xticks(rotation='vertical')\n",
    "plt.show()"
   ]
  },
  {
   "cell_type": "code",
   "execution_count": 59,
   "id": "df33fe99",
   "metadata": {
    "execution": {
     "iopub.execute_input": "2022-12-30T00:24:33.355524Z",
     "iopub.status.busy": "2022-12-30T00:24:33.355085Z",
     "iopub.status.idle": "2022-12-30T00:24:33.361540Z",
     "shell.execute_reply": "2022-12-30T00:24:33.360441Z"
    },
    "papermill": {
     "duration": 0.040008,
     "end_time": "2022-12-30T00:24:33.363862",
     "exception": false,
     "start_time": "2022-12-30T00:24:33.323854",
     "status": "completed"
    },
    "tags": []
   },
   "outputs": [],
   "source": [
    "data.drop(columns=['Gpu'],inplace=True)"
   ]
  },
  {
   "cell_type": "code",
   "execution_count": 60,
   "id": "38de8b67",
   "metadata": {
    "execution": {
     "iopub.execute_input": "2022-12-30T00:24:33.424468Z",
     "iopub.status.busy": "2022-12-30T00:24:33.424025Z",
     "iopub.status.idle": "2022-12-30T00:24:33.432816Z",
     "shell.execute_reply": "2022-12-30T00:24:33.431420Z"
    },
    "papermill": {
     "duration": 0.04179,
     "end_time": "2022-12-30T00:24:33.435144",
     "exception": false,
     "start_time": "2022-12-30T00:24:33.393354",
     "status": "completed"
    },
    "tags": []
   },
   "outputs": [
    {
     "data": {
      "text/plain": [
       "Windows 10      1072\n",
       "No OS             66\n",
       "Linux             62\n",
       "Windows 7         45\n",
       "Chrome OS         26\n",
       "macOS             13\n",
       "Mac OS X           8\n",
       "Windows 10 S       8\n",
       "Android            2\n",
       "Name: OpSys, dtype: int64"
      ]
     },
     "execution_count": 60,
     "metadata": {},
     "output_type": "execute_result"
    }
   ],
   "source": [
    "data['OpSys'].value_counts()"
   ]
  },
  {
   "cell_type": "code",
   "execution_count": 61,
   "id": "d27df17b",
   "metadata": {
    "execution": {
     "iopub.execute_input": "2022-12-30T00:24:33.495779Z",
     "iopub.status.busy": "2022-12-30T00:24:33.495332Z",
     "iopub.status.idle": "2022-12-30T00:24:33.949458Z",
     "shell.execute_reply": "2022-12-30T00:24:33.948172Z"
    },
    "papermill": {
     "duration": 0.48752,
     "end_time": "2022-12-30T00:24:33.952059",
     "exception": false,
     "start_time": "2022-12-30T00:24:33.464539",
     "status": "completed"
    },
    "tags": []
   },
   "outputs": [
    {
     "data": {
      "image/png": "[encoded data removed]",
      "text/plain": [
       "<Figure size 432x288 with 1 Axes>"
      ]
     },
     "metadata": {
      "needs_background": "light"
     },
     "output_type": "display_data"
    }
   ],
   "source": [
    "sns.barplot(x=data['OpSys'],y=data['Price'])\n",
    "plt.xticks(rotation='vertical')\n",
    "plt.show()"
   ]
  },
  {
   "cell_type": "code",
   "execution_count": 62,
   "id": "1a39aef0",
   "metadata": {
    "execution": {
     "iopub.execute_input": "2022-12-30T00:24:34.012897Z",
     "iopub.status.busy": "2022-12-30T00:24:34.012443Z",
     "iopub.status.idle": "2022-12-30T00:24:34.018979Z",
     "shell.execute_reply": "2022-12-30T00:24:34.017652Z"
    },
    "papermill": {
     "duration": 0.039819,
     "end_time": "2022-12-30T00:24:34.021395",
     "exception": false,
     "start_time": "2022-12-30T00:24:33.981576",
     "status": "completed"
    },
    "tags": []
   },
   "outputs": [],
   "source": [
    "def cat_os(inp):\n",
    "    if inp == 'Windows 10' or inp == 'Windows 7' or inp == 'Windows 10 S':\n",
    "        return 'Windows'\n",
    "    elif inp == 'macOS' or inp == 'Mac OS X':\n",
    "        return 'Mac'\n",
    "    else:\n",
    "        return 'Others/No OS/Linux'"
   ]
  },
  {
   "cell_type": "code",
   "execution_count": 63,
   "id": "5d743c0c",
   "metadata": {
    "execution": {
     "iopub.execute_input": "2022-12-30T00:24:34.087882Z",
     "iopub.status.busy": "2022-12-30T00:24:34.086723Z",
     "iopub.status.idle": "2022-12-30T00:24:34.093845Z",
     "shell.execute_reply": "2022-12-30T00:24:34.092528Z"
    },
    "papermill": {
     "duration": 0.043552,
     "end_time": "2022-12-30T00:24:34.096744",
     "exception": false,
     "start_time": "2022-12-30T00:24:34.053192",
     "status": "completed"
    },
    "tags": []
   },
   "outputs": [],
   "source": [
    "data['os'] = data['OpSys'].apply(cat_os)"
   ]
  },
  {
   "cell_type": "code",
   "execution_count": 64,
   "id": "51f9ca95",
   "metadata": {
    "execution": {
     "iopub.execute_input": "2022-12-30T00:24:34.159043Z",
     "iopub.status.busy": "2022-12-30T00:24:34.157904Z",
     "iopub.status.idle": "2022-12-30T00:24:34.179116Z",
     "shell.execute_reply": "2022-12-30T00:24:34.177819Z"
    },
    "papermill": {
     "duration": 0.055321,
     "end_time": "2022-12-30T00:24:34.181840",
     "exception": false,
     "start_time": "2022-12-30T00:24:34.126519",
     "status": "completed"
    },
    "tags": []
   },
   "outputs": [
    {
     "data": {
      "text/html": [
       "<div>\n",
       "<style scoped>\n",
       "    .dataframe tbody tr th:only-of-type {\n",
       "        vertical-align: middle;\n",
       "    }\n",
       "\n",
       "    .dataframe tbody tr th {\n",
       "        vertical-align: top;\n",
       "    }\n",
       "\n",
       "    .dataframe thead th {\n",
       "        text-align: right;\n",
       "    }\n",
       "</style>\n",
       "<table border=\"1\" class=\"dataframe\">\n",
       "  <thead>\n",
       "    <tr style=\"text-align: right;\">\n",
       "      <th></th>\n",
       "      <th>Company</th>\n",
       "      <th>TypeName</th>\n",
       "      <th>Ram</th>\n",
       "      <th>OpSys</th>\n",
       "      <th>Weight</th>\n",
       "      <th>Price</th>\n",
       "      <th>Touchscreen</th>\n",
       "      <th>IPS Panel</th>\n",
       "      <th>PPI</th>\n",
       "      <th>Cpu brand</th>\n",
       "      <th>HDD</th>\n",
       "      <th>SSD</th>\n",
       "      <th>Gpu brand</th>\n",
       "      <th>os</th>\n",
       "    </tr>\n",
       "  </thead>\n",
       "  <tbody>\n",
       "    <tr>\n",
       "      <th>0</th>\n",
       "      <td>Apple</td>\n",
       "      <td>Ultrabook</td>\n",
       "      <td>8</td>\n",
       "      <td>macOS</td>\n",
       "      <td>1.37</td>\n",
       "      <td>71378.6832</td>\n",
       "      <td>0</td>\n",
       "      <td>1</td>\n",
       "      <td>226.983005</td>\n",
       "      <td>Intel Core i5</td>\n",
       "      <td>0</td>\n",
       "      <td>128</td>\n",
       "      <td>Intel</td>\n",
       "      <td>Mac</td>\n",
       "    </tr>\n",
       "    <tr>\n",
       "      <th>1</th>\n",
       "      <td>Apple</td>\n",
       "      <td>Ultrabook</td>\n",
       "      <td>8</td>\n",
       "      <td>macOS</td>\n",
       "      <td>1.34</td>\n",
       "      <td>47895.5232</td>\n",
       "      <td>0</td>\n",
       "      <td>0</td>\n",
       "      <td>127.677940</td>\n",
       "      <td>Intel Core i5</td>\n",
       "      <td>0</td>\n",
       "      <td>0</td>\n",
       "      <td>Intel</td>\n",
       "      <td>Mac</td>\n",
       "    </tr>\n",
       "    <tr>\n",
       "      <th>2</th>\n",
       "      <td>HP</td>\n",
       "      <td>Notebook</td>\n",
       "      <td>8</td>\n",
       "      <td>No OS</td>\n",
       "      <td>1.86</td>\n",
       "      <td>30636.0000</td>\n",
       "      <td>0</td>\n",
       "      <td>0</td>\n",
       "      <td>141.211998</td>\n",
       "      <td>Intel Core i5</td>\n",
       "      <td>0</td>\n",
       "      <td>256</td>\n",
       "      <td>Intel</td>\n",
       "      <td>Others/No OS/Linux</td>\n",
       "    </tr>\n",
       "    <tr>\n",
       "      <th>3</th>\n",
       "      <td>Apple</td>\n",
       "      <td>Ultrabook</td>\n",
       "      <td>16</td>\n",
       "      <td>macOS</td>\n",
       "      <td>1.83</td>\n",
       "      <td>135195.3360</td>\n",
       "      <td>0</td>\n",
       "      <td>1</td>\n",
       "      <td>220.534624</td>\n",
       "      <td>Intel Core i7</td>\n",
       "      <td>0</td>\n",
       "      <td>512</td>\n",
       "      <td>AMD</td>\n",
       "      <td>Mac</td>\n",
       "    </tr>\n",
       "    <tr>\n",
       "      <th>4</th>\n",
       "      <td>Apple</td>\n",
       "      <td>Ultrabook</td>\n",
       "      <td>8</td>\n",
       "      <td>macOS</td>\n",
       "      <td>1.37</td>\n",
       "      <td>96095.8080</td>\n",
       "      <td>0</td>\n",
       "      <td>1</td>\n",
       "      <td>226.983005</td>\n",
       "      <td>Intel Core i5</td>\n",
       "      <td>0</td>\n",
       "      <td>256</td>\n",
       "      <td>Intel</td>\n",
       "      <td>Mac</td>\n",
       "    </tr>\n",
       "  </tbody>\n",
       "</table>\n",
       "</div>"
      ],
      "text/plain": [
       "  Company   TypeName  Ram  OpSys  Weight        Price  Touchscreen  IPS Panel  \\\n",
       "0   Apple  Ultrabook    8  macOS    1.37   71378.6832            0          1   \n",
       "1   Apple  Ultrabook    8  macOS    1.34   47895.5232            0          0   \n",
       "2      HP   Notebook    8  No OS    1.86   30636.0000            0          0   \n",
       "3   Apple  Ultrabook   16  macOS    1.83  135195.3360            0          1   \n",
       "4   Apple  Ultrabook    8  macOS    1.37   96095.8080            0          1   \n",
       "\n",
       "          PPI      Cpu brand  HDD  SSD Gpu brand                  os  \n",
       "0  226.983005  Intel Core i5    0  128     Intel                 Mac  \n",
       "1  127.677940  Intel Core i5    0    0     Intel                 Mac  \n",
       "2  141.211998  Intel Core i5    0  256     Intel  Others/No OS/Linux  \n",
       "3  220.534624  Intel Core i7    0  512       AMD                 Mac  \n",
       "4  226.983005  Intel Core i5    0  256     Intel                 Mac  "
      ]
     },
     "execution_count": 64,
     "metadata": {},
     "output_type": "execute_result"
    }
   ],
   "source": [
    "data.head()"
   ]
  },
  {
   "cell_type": "code",
   "execution_count": 65,
   "id": "45e1853d",
   "metadata": {
    "execution": {
     "iopub.execute_input": "2022-12-30T00:24:34.244224Z",
     "iopub.status.busy": "2022-12-30T00:24:34.243393Z",
     "iopub.status.idle": "2022-12-30T00:24:34.251366Z",
     "shell.execute_reply": "2022-12-30T00:24:34.249700Z"
    },
    "papermill": {
     "duration": 0.042492,
     "end_time": "2022-12-30T00:24:34.254406",
     "exception": false,
     "start_time": "2022-12-30T00:24:34.211914",
     "status": "completed"
    },
    "tags": []
   },
   "outputs": [],
   "source": [
    "data.drop(columns=['OpSys'],inplace=True)"
   ]
  },
  {
   "cell_type": "code",
   "execution_count": 66,
   "id": "7613791f",
   "metadata": {
    "execution": {
     "iopub.execute_input": "2022-12-30T00:24:34.316494Z",
     "iopub.status.busy": "2022-12-30T00:24:34.316073Z",
     "iopub.status.idle": "2022-12-30T00:24:34.605357Z",
     "shell.execute_reply": "2022-12-30T00:24:34.604137Z"
    },
    "papermill": {
     "duration": 0.323599,
     "end_time": "2022-12-30T00:24:34.608563",
     "exception": false,
     "start_time": "2022-12-30T00:24:34.284964",
     "status": "completed"
    },
    "tags": []
   },
   "outputs": [
    {
     "data": {
      "image/png": "[encoded data removed]",
      "text/plain": [
       "<Figure size 432x288 with 1 Axes>"
      ]
     },
     "metadata": {
      "needs_background": "light"
     },
     "output_type": "display_data"
    }
   ],
   "source": [
    "sns.barplot(x=data['os'],y=data['Price'])\n",
    "plt.xticks(rotation='vertical')\n",
    "plt.show()"
   ]
  },
  {
   "cell_type": "code",
   "execution_count": 67,
   "id": "9f6830a7",
   "metadata": {
    "execution": {
     "iopub.execute_input": "2022-12-30T00:24:34.671584Z",
     "iopub.status.busy": "2022-12-30T00:24:34.670506Z",
     "iopub.status.idle": "2022-12-30T00:24:34.962940Z",
     "shell.execute_reply": "2022-12-30T00:24:34.961428Z"
    },
    "papermill": {
     "duration": 0.327315,
     "end_time": "2022-12-30T00:24:34.965907",
     "exception": false,
     "start_time": "2022-12-30T00:24:34.638592",
     "status": "completed"
    },
    "tags": []
   },
   "outputs": [
    {
     "name": "stderr",
     "output_type": "stream",
     "text": [
      "/opt/conda/lib/python3.7/site-packages/seaborn/distributions.py:2619: FutureWarning: `distplot` is a deprecated function and will be removed in a future version. Please adapt your code to use either `displot` (a figure-level function with similar flexibility) or `histplot` (an axes-level function for histograms).\n",
      "  warnings.warn(msg, FutureWarning)\n"
     ]
    },
    {
     "data": {
      "text/plain": [
       "<AxesSubplot:xlabel='Weight', ylabel='Density'>"
      ]
     },
     "execution_count": 67,
     "metadata": {},
     "output_type": "execute_result"
    },
    {
     "data": {
      "image/png": "[encoded data removed]",
      "text/plain": [
       "<Figure size 432x288 with 1 Axes>"
      ]
     },
     "metadata": {
      "needs_background": "light"
     },
     "output_type": "display_data"
    }
   ],
   "source": [
    "sns.distplot(data['Weight'])"
   ]
  },
  {
   "cell_type": "code",
   "execution_count": 68,
   "id": "0696e1a3",
   "metadata": {
    "execution": {
     "iopub.execute_input": "2022-12-30T00:24:35.030622Z",
     "iopub.status.busy": "2022-12-30T00:24:35.029784Z",
     "iopub.status.idle": "2022-12-30T00:24:35.310355Z",
     "shell.execute_reply": "2022-12-30T00:24:35.309134Z"
    },
    "papermill": {
     "duration": 0.315864,
     "end_time": "2022-12-30T00:24:35.312857",
     "exception": false,
     "start_time": "2022-12-30T00:24:34.996993",
     "status": "completed"
    },
    "tags": []
   },
   "outputs": [
    {
     "data": {
      "text/plain": [
       "<AxesSubplot:xlabel='Weight', ylabel='Price'>"
      ]
     },
     "execution_count": 68,
     "metadata": {},
     "output_type": "execute_result"
    },
    {
     "data": {
      "image/png": "[encoded data removed]",
      "text/plain": [
       "<Figure size 432x288 with 1 Axes>"
      ]
     },
     "metadata": {
      "needs_background": "light"
     },
     "output_type": "display_data"
    }
   ],
   "source": [
    "sns.scatterplot(x=data['Weight'],y=data['Price'])"
   ]
  },
  {
   "cell_type": "code",
   "execution_count": 69,
   "id": "7fd5379d",
   "metadata": {
    "execution": {
     "iopub.execute_input": "2022-12-30T00:24:35.378627Z",
     "iopub.status.busy": "2022-12-30T00:24:35.377967Z",
     "iopub.status.idle": "2022-12-30T00:24:35.389772Z",
     "shell.execute_reply": "2022-12-30T00:24:35.388436Z"
    },
    "papermill": {
     "duration": 0.048447,
     "end_time": "2022-12-30T00:24:35.392623",
     "exception": false,
     "start_time": "2022-12-30T00:24:35.344176",
     "status": "completed"
    },
    "tags": []
   },
   "outputs": [
    {
     "data": {
      "text/plain": [
       "Ram            0.742905\n",
       "Weight         0.209867\n",
       "Price          1.000000\n",
       "Touchscreen    0.192917\n",
       "IPS Panel      0.253320\n",
       "PPI            0.475368\n",
       "HDD           -0.096891\n",
       "SSD            0.670660\n",
       "Name: Price, dtype: float64"
      ]
     },
     "execution_count": 69,
     "metadata": {},
     "output_type": "execute_result"
    }
   ],
   "source": [
    "data.corr()['Price']"
   ]
  },
  {
   "cell_type": "code",
   "execution_count": 70,
   "id": "02fca558",
   "metadata": {
    "execution": {
     "iopub.execute_input": "2022-12-30T00:24:35.459352Z",
     "iopub.status.busy": "2022-12-30T00:24:35.458879Z",
     "iopub.status.idle": "2022-12-30T00:24:35.812417Z",
     "shell.execute_reply": "2022-12-30T00:24:35.811037Z"
    },
    "papermill": {
     "duration": 0.390605,
     "end_time": "2022-12-30T00:24:35.815295",
     "exception": false,
     "start_time": "2022-12-30T00:24:35.424690",
     "status": "completed"
    },
    "tags": []
   },
   "outputs": [
    {
     "data": {
      "text/plain": [
       "<AxesSubplot:>"
      ]
     },
     "execution_count": 70,
     "metadata": {},
     "output_type": "execute_result"
    },
    {
     "data": {
      "image/png": "[encoded data removed]",
      "text/plain": [
       "<Figure size 432x288 with 2 Axes>"
      ]
     },
     "metadata": {
      "needs_background": "light"
     },
     "output_type": "display_data"
    }
   ],
   "source": [
    "sns.heatmap(data.corr())"
   ]
  },
  {
   "cell_type": "code",
   "execution_count": 71,
   "id": "d148ce5d",
   "metadata": {
    "execution": {
     "iopub.execute_input": "2022-12-30T00:24:35.881264Z",
     "iopub.status.busy": "2022-12-30T00:24:35.880205Z",
     "iopub.status.idle": "2022-12-30T00:24:36.159823Z",
     "shell.execute_reply": "2022-12-30T00:24:36.158465Z"
    },
    "papermill": {
     "duration": 0.315696,
     "end_time": "2022-12-30T00:24:36.162648",
     "exception": false,
     "start_time": "2022-12-30T00:24:35.846952",
     "status": "completed"
    },
    "tags": []
   },
   "outputs": [
    {
     "name": "stderr",
     "output_type": "stream",
     "text": [
      "/opt/conda/lib/python3.7/site-packages/seaborn/distributions.py:2619: FutureWarning: `distplot` is a deprecated function and will be removed in a future version. Please adapt your code to use either `displot` (a figure-level function with similar flexibility) or `histplot` (an axes-level function for histograms).\n",
      "  warnings.warn(msg, FutureWarning)\n"
     ]
    },
    {
     "data": {
      "text/plain": [
       "<AxesSubplot:xlabel='Price', ylabel='Density'>"
      ]
     },
     "execution_count": 71,
     "metadata": {},
     "output_type": "execute_result"
    },
    {
     "data": {
      "image/png": "[encoded data removed]",
      "text/plain": [
       "<Figure size 432x288 with 1 Axes>"
      ]
     },
     "metadata": {
      "needs_background": "light"
     },
     "output_type": "display_data"
    }
   ],
   "source": [
    "sns.distplot(np.log(data['Price']))"
   ]
  },
  {
   "cell_type": "code",
   "execution_count": 72,
   "id": "0efdffd0",
   "metadata": {
    "execution": {
     "iopub.execute_input": "2022-12-30T00:24:36.230403Z",
     "iopub.status.busy": "2022-12-30T00:24:36.229964Z",
     "iopub.status.idle": "2022-12-30T00:24:36.237085Z",
     "shell.execute_reply": "2022-12-30T00:24:36.235945Z"
    },
    "papermill": {
     "duration": 0.043887,
     "end_time": "2022-12-30T00:24:36.239410",
     "exception": false,
     "start_time": "2022-12-30T00:24:36.195523",
     "status": "completed"
    },
    "tags": []
   },
   "outputs": [],
   "source": [
    "X = data.drop(columns=['Price'])\n",
    "y = np.log(data['Price'])"
   ]
  },
  {
   "cell_type": "code",
   "execution_count": 73,
   "id": "9c8285c2",
   "metadata": {
    "execution": {
     "iopub.execute_input": "2022-12-30T00:24:36.305806Z",
     "iopub.status.busy": "2022-12-30T00:24:36.305369Z",
     "iopub.status.idle": "2022-12-30T00:24:36.538240Z",
     "shell.execute_reply": "2022-12-30T00:24:36.536894Z"
    },
    "papermill": {
     "duration": 0.269538,
     "end_time": "2022-12-30T00:24:36.541296",
     "exception": false,
     "start_time": "2022-12-30T00:24:36.271758",
     "status": "completed"
    },
    "tags": []
   },
   "outputs": [],
   "source": [
    "from sklearn.model_selection import train_test_split\n",
    "X_train,X_test,y_train,y_test = train_test_split(X,y,test_size=0.15,random_state=2)"
   ]
  },
  {
   "cell_type": "code",
   "execution_count": 74,
   "id": "4edbdcc3",
   "metadata": {
    "execution": {
     "iopub.execute_input": "2022-12-30T00:24:36.610525Z",
     "iopub.status.busy": "2022-12-30T00:24:36.610115Z",
     "iopub.status.idle": "2022-12-30T00:24:36.999059Z",
     "shell.execute_reply": "2022-12-30T00:24:36.997940Z"
    },
    "papermill": {
     "duration": 0.428176,
     "end_time": "2022-12-30T00:24:37.001975",
     "exception": false,
     "start_time": "2022-12-30T00:24:36.573799",
     "status": "completed"
    },
    "tags": []
   },
   "outputs": [],
   "source": [
    "from sklearn.compose import ColumnTransformer\n",
    "from sklearn.pipeline import Pipeline\n",
    "from sklearn.preprocessing import OneHotEncoder\n",
    "from sklearn.metrics import r2_score,mean_absolute_error\n",
    "from sklearn.linear_model import LinearRegression,Ridge,Lasso\n",
    "from sklearn.neighbors import KNeighborsRegressor\n",
    "from sklearn.tree import DecisionTreeRegressor\n",
    "from sklearn.ensemble import RandomForestRegressor,GradientBoostingRegressor,AdaBoostRegressor,ExtraTreesRegressor\n",
    "from sklearn.svm import SVR\n",
    "from xgboost import XGBRegressor"
   ]
  },
  {
   "cell_type": "markdown",
   "id": "e2126447",
   "metadata": {
    "papermill": {
     "duration": 0.03165,
     "end_time": "2022-12-30T00:24:37.065742",
     "exception": false,
     "start_time": "2022-12-30T00:24:37.034092",
     "status": "completed"
    },
    "tags": []
   },
   "source": [
    "\n",
    "<font size=\"5\">**Linear Reg.**</font>"
   ]
  },
  {
   "cell_type": "code",
   "execution_count": 75,
   "id": "35cd7564",
   "metadata": {
    "execution": {
     "iopub.execute_input": "2022-12-30T00:24:37.132382Z",
     "iopub.status.busy": "2022-12-30T00:24:37.131668Z",
     "iopub.status.idle": "2022-12-30T00:24:37.179455Z",
     "shell.execute_reply": "2022-12-30T00:24:37.177688Z"
    },
    "papermill": {
     "duration": 0.089011,
     "end_time": "2022-12-30T00:24:37.186829",
     "exception": false,
     "start_time": "2022-12-30T00:24:37.097818",
     "status": "completed"
    },
    "tags": []
   },
   "outputs": [
    {
     "name": "stdout",
     "output_type": "stream",
     "text": [
      "R2 score 0.8073277450155137\n",
      "MAE 0.21017827953018942\n"
     ]
    }
   ],
   "source": [
    "step1 = ColumnTransformer(transformers=[\n",
    "    ('col_tnf',OneHotEncoder(sparse=False,drop='first'),[0,1,7,10,11])\n",
    "],remainder='passthrough')\n",
    "\n",
    "step2 = LinearRegression()\n",
    "\n",
    "pipe = Pipeline([\n",
    "    ('step1',step1),\n",
    "    ('step2',step2)\n",
    "])\n",
    "\n",
    "pipe.fit(X_train,y_train)\n",
    "\n",
    "y_pred = pipe.predict(X_test)\n",
    "\n",
    "print('R2 score',r2_score(y_test,y_pred))\n",
    "print('MAE',mean_absolute_error(y_test,y_pred))"
   ]
  },
  {
   "cell_type": "markdown",
   "id": "b8bda658",
   "metadata": {
    "papermill": {
     "duration": 0.036127,
     "end_time": "2022-12-30T00:24:37.307233",
     "exception": false,
     "start_time": "2022-12-30T00:24:37.271106",
     "status": "completed"
    },
    "tags": []
   },
   "source": [
    "<font size=\"5\">**Ridge Reg**</font>"
   ]
  },
  {
   "cell_type": "code",
   "execution_count": 76,
   "id": "453d5989",
   "metadata": {
    "execution": {
     "iopub.execute_input": "2022-12-30T00:24:37.373958Z",
     "iopub.status.busy": "2022-12-30T00:24:37.373480Z",
     "iopub.status.idle": "2022-12-30T00:24:37.410952Z",
     "shell.execute_reply": "2022-12-30T00:24:37.409344Z"
    },
    "papermill": {
     "duration": 0.076122,
     "end_time": "2022-12-30T00:24:37.415637",
     "exception": false,
     "start_time": "2022-12-30T00:24:37.339515",
     "status": "completed"
    },
    "tags": []
   },
   "outputs": [
    {
     "name": "stdout",
     "output_type": "stream",
     "text": [
      "R2 score 0.8127331033739459\n",
      "MAE 0.20926802210371429\n"
     ]
    }
   ],
   "source": [
    "step1 = ColumnTransformer(transformers=[\n",
    "    ('col_tnf',OneHotEncoder(sparse=False,drop='first'),[0,1,7,10,11])\n",
    "],remainder='passthrough')\n",
    "\n",
    "step2 = Ridge(alpha=10)\n",
    "\n",
    "pipe = Pipeline([\n",
    "    ('step1',step1),\n",
    "    ('step2',step2)\n",
    "])\n",
    "\n",
    "pipe.fit(X_train,y_train)\n",
    "\n",
    "y_pred = pipe.predict(X_test)\n",
    "\n",
    "print('R2 score',r2_score(y_test,y_pred))\n",
    "print('MAE',mean_absolute_error(y_test,y_pred))"
   ]
  },
  {
   "cell_type": "markdown",
   "id": "0e2fee3e",
   "metadata": {
    "papermill": {
     "duration": 0.041062,
     "end_time": "2022-12-30T00:24:37.541397",
     "exception": false,
     "start_time": "2022-12-30T00:24:37.500335",
     "status": "completed"
    },
    "tags": []
   },
   "source": [
    "<font size=\"5\">**Lasso Reg**</font>"
   ]
  },
  {
   "cell_type": "code",
   "execution_count": 77,
   "id": "a9875250",
   "metadata": {
    "execution": {
     "iopub.execute_input": "2022-12-30T00:24:37.608257Z",
     "iopub.status.busy": "2022-12-30T00:24:37.607009Z",
     "iopub.status.idle": "2022-12-30T00:24:37.647005Z",
     "shell.execute_reply": "2022-12-30T00:24:37.645273Z"
    },
    "papermill": {
     "duration": 0.0804,
     "end_time": "2022-12-30T00:24:37.653864",
     "exception": false,
     "start_time": "2022-12-30T00:24:37.573464",
     "status": "completed"
    },
    "tags": []
   },
   "outputs": [
    {
     "name": "stdout",
     "output_type": "stream",
     "text": [
      "R2 score 0.8071853947620582\n",
      "MAE 0.21114361575113452\n"
     ]
    }
   ],
   "source": [
    "step1 = ColumnTransformer(transformers=[\n",
    "    ('col_tnf',OneHotEncoder(sparse=False,drop='first'),[0,1,7,10,11])\n",
    "],remainder='passthrough')\n",
    "\n",
    "step2 = Lasso(alpha=0.001)\n",
    "\n",
    "pipe = Pipeline([\n",
    "    ('step1',step1),\n",
    "    ('step2',step2)\n",
    "])\n",
    "\n",
    "pipe.fit(X_train,y_train)\n",
    "\n",
    "y_pred = pipe.predict(X_test)\n",
    "\n",
    "print('R2 score',r2_score(y_test,y_pred))\n",
    "print('MAE',mean_absolute_error(y_test,y_pred))"
   ]
  },
  {
   "cell_type": "markdown",
   "id": "8fbcfa4e",
   "metadata": {
    "papermill": {
     "duration": 0.040865,
     "end_time": "2022-12-30T00:24:37.782963",
     "exception": false,
     "start_time": "2022-12-30T00:24:37.742098",
     "status": "completed"
    },
    "tags": []
   },
   "source": [
    "<font size=\"5\">**KNN**</font>"
   ]
  },
  {
   "cell_type": "code",
   "execution_count": 78,
   "id": "0c92cce6",
   "metadata": {
    "execution": {
     "iopub.execute_input": "2022-12-30T00:24:37.851242Z",
     "iopub.status.busy": "2022-12-30T00:24:37.850781Z",
     "iopub.status.idle": "2022-12-30T00:24:37.892067Z",
     "shell.execute_reply": "2022-12-30T00:24:37.890283Z"
    },
    "papermill": {
     "duration": 0.082415,
     "end_time": "2022-12-30T00:24:37.899110",
     "exception": false,
     "start_time": "2022-12-30T00:24:37.816695",
     "status": "completed"
    },
    "tags": []
   },
   "outputs": [
    {
     "name": "stdout",
     "output_type": "stream",
     "text": [
      "R2 score 0.80215040816626\n",
      "MAE 0.19323579887267534\n"
     ]
    }
   ],
   "source": [
    "step1 = ColumnTransformer(transformers=[\n",
    "    ('col_tnf',OneHotEncoder(sparse=False,drop='first'),[0,1,7,10,11])\n",
    "],remainder='passthrough')\n",
    "\n",
    "step2 = KNeighborsRegressor(n_neighbors=3)\n",
    "\n",
    "pipe = Pipeline([\n",
    "    ('step1',step1),\n",
    "    ('step2',step2)\n",
    "])\n",
    "\n",
    "pipe.fit(X_train,y_train)\n",
    "\n",
    "y_pred = pipe.predict(X_test)\n",
    "\n",
    "print('R2 score',r2_score(y_test,y_pred))\n",
    "print('MAE',mean_absolute_error(y_test,y_pred))"
   ]
  },
  {
   "cell_type": "markdown",
   "id": "b8253d21",
   "metadata": {
    "papermill": {
     "duration": 0.045138,
     "end_time": "2022-12-30T00:24:38.029829",
     "exception": false,
     "start_time": "2022-12-30T00:24:37.984691",
     "status": "completed"
    },
    "tags": []
   },
   "source": [
    "<font size=\"5\">**Decision Tree**</font>"
   ]
  },
  {
   "cell_type": "code",
   "execution_count": 79,
   "id": "b4f5eab2",
   "metadata": {
    "execution": {
     "iopub.execute_input": "2022-12-30T00:24:38.097014Z",
     "iopub.status.busy": "2022-12-30T00:24:38.096553Z",
     "iopub.status.idle": "2022-12-30T00:24:38.122692Z",
     "shell.execute_reply": "2022-12-30T00:24:38.121130Z"
    },
    "papermill": {
     "duration": 0.06325,
     "end_time": "2022-12-30T00:24:38.125564",
     "exception": false,
     "start_time": "2022-12-30T00:24:38.062314",
     "status": "completed"
    },
    "tags": []
   },
   "outputs": [
    {
     "name": "stdout",
     "output_type": "stream",
     "text": [
      "R2 score 0.8414242020169211\n",
      "MAE 0.18184758163897294\n"
     ]
    }
   ],
   "source": [
    "step1 = ColumnTransformer(transformers=[\n",
    "    ('col_tnf',OneHotEncoder(sparse=False,drop='first'),[0,1,7,10,11])\n",
    "],remainder='passthrough')\n",
    "\n",
    "step2 = DecisionTreeRegressor(max_depth=8)\n",
    "\n",
    "pipe = Pipeline([\n",
    "    ('step1',step1),\n",
    "    ('step2',step2)\n",
    "])\n",
    "\n",
    "pipe.fit(X_train,y_train)\n",
    "\n",
    "y_pred = pipe.predict(X_test)\n",
    "\n",
    "print('R2 score',r2_score(y_test,y_pred))\n",
    "print('MAE',mean_absolute_error(y_test,y_pred))"
   ]
  },
  {
   "cell_type": "markdown",
   "id": "646dcc35",
   "metadata": {
    "papermill": {
     "duration": 0.032305,
     "end_time": "2022-12-30T00:24:38.190626",
     "exception": false,
     "start_time": "2022-12-30T00:24:38.158321",
     "status": "completed"
    },
    "tags": []
   },
   "source": [
    "<font size=\"5\">**SVM**</font>"
   ]
  },
  {
   "cell_type": "code",
   "execution_count": 80,
   "id": "de6e5e98",
   "metadata": {
    "execution": {
     "iopub.execute_input": "2022-12-30T00:24:38.260960Z",
     "iopub.status.busy": "2022-12-30T00:24:38.260140Z",
     "iopub.status.idle": "2022-12-30T00:24:39.130572Z",
     "shell.execute_reply": "2022-12-30T00:24:39.129072Z"
    },
    "papermill": {
     "duration": 0.907727,
     "end_time": "2022-12-30T00:24:39.133588",
     "exception": false,
     "start_time": "2022-12-30T00:24:38.225861",
     "status": "completed"
    },
    "tags": []
   },
   "outputs": [
    {
     "name": "stdout",
     "output_type": "stream",
     "text": [
      "R2 score 0.80831683884607\n",
      "MAE 0.20239400567757476\n"
     ]
    }
   ],
   "source": [
    "step1 = ColumnTransformer(transformers=[\n",
    "    ('col_tnf',OneHotEncoder(sparse=False,drop='first'),[0,1,7,10,11])\n",
    "],remainder='passthrough')\n",
    "\n",
    "step2 = SVR(kernel='rbf',C=10000,epsilon=0.1)\n",
    "\n",
    "pipe = Pipeline([\n",
    "    ('step1',step1),\n",
    "    ('step2',step2)\n",
    "])\n",
    "\n",
    "pipe.fit(X_train,y_train)\n",
    "\n",
    "y_pred = pipe.predict(X_test)\n",
    "\n",
    "print('R2 score',r2_score(y_test,y_pred))\n",
    "print('MAE',mean_absolute_error(y_test,y_pred))"
   ]
  },
  {
   "cell_type": "markdown",
   "id": "286f2e40",
   "metadata": {
    "papermill": {
     "duration": 0.033089,
     "end_time": "2022-12-30T00:24:39.200278",
     "exception": false,
     "start_time": "2022-12-30T00:24:39.167189",
     "status": "completed"
    },
    "tags": []
   },
   "source": [
    "<font size=\"5\">**Random Forest**</font>"
   ]
  },
  {
   "cell_type": "code",
   "execution_count": 81,
   "id": "4f8c45e2",
   "metadata": {
    "execution": {
     "iopub.execute_input": "2022-12-30T00:24:39.268848Z",
     "iopub.status.busy": "2022-12-30T00:24:39.268168Z",
     "iopub.status.idle": "2022-12-30T00:24:39.600159Z",
     "shell.execute_reply": "2022-12-30T00:24:39.598748Z"
    },
    "papermill": {
     "duration": 0.369432,
     "end_time": "2022-12-30T00:24:39.603123",
     "exception": false,
     "start_time": "2022-12-30T00:24:39.233691",
     "status": "completed"
    },
    "tags": []
   },
   "outputs": [
    {
     "name": "stdout",
     "output_type": "stream",
     "text": [
      "R2 score 0.8873402378382488\n",
      "MAE 0.15860130110457718\n"
     ]
    }
   ],
   "source": [
    "step1 = ColumnTransformer(transformers=[\n",
    "    ('col_tnf',OneHotEncoder(sparse=False,drop='first'),[0,1,7,10,11])\n",
    "],remainder='passthrough')\n",
    "\n",
    "step2 = RandomForestRegressor(n_estimators=100,\n",
    "                              random_state=3,\n",
    "                              max_samples=0.5,\n",
    "                              max_features=0.75,\n",
    "                              max_depth=15)\n",
    "\n",
    "pipe = Pipeline([\n",
    "    ('step1',step1),\n",
    "    ('step2',step2)\n",
    "])\n",
    "\n",
    "pipe.fit(X_train,y_train)\n",
    "\n",
    "y_pred = pipe.predict(X_test)\n",
    "\n",
    "print('R2 score',r2_score(y_test,y_pred))\n",
    "print('MAE',mean_absolute_error(y_test,y_pred))"
   ]
  },
  {
   "cell_type": "markdown",
   "id": "7545893c",
   "metadata": {
    "papermill": {
     "duration": 0.032346,
     "end_time": "2022-12-30T00:24:39.668321",
     "exception": false,
     "start_time": "2022-12-30T00:24:39.635975",
     "status": "completed"
    },
    "tags": []
   },
   "source": [
    "<font size=\"5\">**AdaBoost**</font>"
   ]
  },
  {
   "cell_type": "code",
   "execution_count": 82,
   "id": "f3b0e1ed",
   "metadata": {
    "execution": {
     "iopub.execute_input": "2022-12-30T00:24:39.735557Z",
     "iopub.status.busy": "2022-12-30T00:24:39.735128Z",
     "iopub.status.idle": "2022-12-30T00:24:39.802670Z",
     "shell.execute_reply": "2022-12-30T00:24:39.800982Z"
    },
    "papermill": {
     "duration": 0.104176,
     "end_time": "2022-12-30T00:24:39.805167",
     "exception": false,
     "start_time": "2022-12-30T00:24:39.700991",
     "status": "completed"
    },
    "tags": []
   },
   "outputs": [
    {
     "name": "stdout",
     "output_type": "stream",
     "text": [
      "R2 score 0.7745813942405484\n",
      "MAE 0.23951842292229994\n"
     ]
    }
   ],
   "source": [
    "step1 = ColumnTransformer(transformers=[\n",
    "    ('col_tnf',OneHotEncoder(sparse=False,drop='first'),[0,1,7,10,11])\n",
    "],remainder='passthrough')\n",
    "\n",
    "step2 = AdaBoostRegressor(n_estimators=15,learning_rate=1.0)\n",
    "\n",
    "pipe = Pipeline([\n",
    "    ('step1',step1),\n",
    "    ('step2',step2)\n",
    "])\n",
    "\n",
    "pipe.fit(X_train,y_train)\n",
    "\n",
    "y_pred = pipe.predict(X_test)\n",
    "\n",
    "print('R2 score',r2_score(y_test,y_pred))\n",
    "print('MAE',mean_absolute_error(y_test,y_pred))"
   ]
  },
  {
   "cell_type": "markdown",
   "id": "1a6dd071",
   "metadata": {
    "papermill": {
     "duration": 0.032497,
     "end_time": "2022-12-30T00:24:39.870407",
     "exception": false,
     "start_time": "2022-12-30T00:24:39.837910",
     "status": "completed"
    },
    "tags": []
   },
   "source": [
    "<font size=\"5\">**Gradient Boost**</font>"
   ]
  },
  {
   "cell_type": "code",
   "execution_count": 83,
   "id": "3bf05ac9",
   "metadata": {
    "execution": {
     "iopub.execute_input": "2022-12-30T00:24:39.937826Z",
     "iopub.status.busy": "2022-12-30T00:24:39.936742Z",
     "iopub.status.idle": "2022-12-30T00:24:40.647036Z",
     "shell.execute_reply": "2022-12-30T00:24:40.646130Z"
    },
    "papermill": {
     "duration": 0.746972,
     "end_time": "2022-12-30T00:24:40.649872",
     "exception": false,
     "start_time": "2022-12-30T00:24:39.902900",
     "status": "completed"
    },
    "tags": []
   },
   "outputs": [
    {
     "name": "stdout",
     "output_type": "stream",
     "text": [
      "R2 score 0.8830423605707134\n",
      "MAE 0.15906270755125598\n"
     ]
    }
   ],
   "source": [
    "step1 = ColumnTransformer(transformers=[\n",
    "    ('col_tnf',OneHotEncoder(sparse=False,drop='first'),[0,1,7,10,11])\n",
    "],remainder='passthrough')\n",
    "\n",
    "step2 = GradientBoostingRegressor(n_estimators=500)\n",
    "\n",
    "pipe = Pipeline([\n",
    "    ('step1',step1),\n",
    "    ('step2',step2)\n",
    "])\n",
    "\n",
    "pipe.fit(X_train,y_train)\n",
    "\n",
    "y_pred = pipe.predict(X_test)\n",
    "\n",
    "print('R2 score',r2_score(y_test,y_pred))\n",
    "print('MAE',mean_absolute_error(y_test,y_pred))"
   ]
  },
  {
   "cell_type": "markdown",
   "id": "e37ec416",
   "metadata": {
    "papermill": {
     "duration": 0.033784,
     "end_time": "2022-12-30T00:24:40.716492",
     "exception": false,
     "start_time": "2022-12-30T00:24:40.682708",
     "status": "completed"
    },
    "tags": []
   },
   "source": [
    "<font size=\"5\">**XGBoost**</font>"
   ]
  },
  {
   "cell_type": "code",
   "execution_count": 84,
   "id": "8ac82947",
   "metadata": {
    "execution": {
     "iopub.execute_input": "2022-12-30T00:24:40.785997Z",
     "iopub.status.busy": "2022-12-30T00:24:40.785537Z",
     "iopub.status.idle": "2022-12-30T00:24:41.067720Z",
     "shell.execute_reply": "2022-12-30T00:24:41.066022Z"
    },
    "papermill": {
     "duration": 0.320593,
     "end_time": "2022-12-30T00:24:41.070469",
     "exception": false,
     "start_time": "2022-12-30T00:24:40.749876",
     "status": "completed"
    },
    "tags": []
   },
   "outputs": [
    {
     "name": "stdout",
     "output_type": "stream",
     "text": [
      "R2 score 0.8811773435850243\n",
      "MAE 0.16496203512600974\n"
     ]
    }
   ],
   "source": [
    "step1 = ColumnTransformer(transformers=[\n",
    "    ('col_tnf',OneHotEncoder(sparse=False,drop='first'),[0,1,7,10,11])\n",
    "],remainder='passthrough')\n",
    "\n",
    "step2 = XGBRegressor(n_estimators=45,max_depth=5,learning_rate=0.5)\n",
    "\n",
    "pipe = Pipeline([\n",
    "    ('step1',step1),\n",
    "    ('step2',step2)\n",
    "])\n",
    "\n",
    "pipe.fit(X_train,y_train)\n",
    "\n",
    "y_pred = pipe.predict(X_test)\n",
    "\n",
    "print('R2 score',r2_score(y_test,y_pred))\n",
    "print('MAE',mean_absolute_error(y_test,y_pred))"
   ]
  },
  {
   "cell_type": "code",
   "execution_count": 85,
   "id": "bee56ea0",
   "metadata": {
    "execution": {
     "iopub.execute_input": "2022-12-30T00:24:41.140715Z",
     "iopub.status.busy": "2022-12-30T00:24:41.140252Z",
     "iopub.status.idle": "2022-12-30T00:24:41.145901Z",
     "shell.execute_reply": "2022-12-30T00:24:41.144525Z"
    },
    "papermill": {
     "duration": 0.043107,
     "end_time": "2022-12-30T00:24:41.148851",
     "exception": false,
     "start_time": "2022-12-30T00:24:41.105744",
     "status": "completed"
    },
    "tags": []
   },
   "outputs": [],
   "source": [
    "# import pickle\n",
    "\n",
    "# pickle.dump(df,open('df.pkl','wb'))\n",
    "# pickle.dump(pipe,open('pipe.pkl','wb'))"
   ]
  }
 ],
 "metadata": {
  "kernelspec": {
   "display_name": "Python 3",
   "language": "python",
   "name": "python3"
  },
  "language_info": {
   "codemirror_mode": {
    "name": "ipython",
    "version": 3
   },
   "file_extension": ".py",
   "mimetype": "text/x-python",
   "name": "python",
   "nbconvert_exporter": "python",
   "pygments_lexer": "ipython3",
   "version": "3.7.12"
  },
  "papermill": {
   "default_parameters": {},
   "duration": 28.894828,
   "end_time": "2022-12-30T00:24:42.107982",
   "environment_variables": {},
   "exception": null,
   "input_path": "__notebook__.ipynb",
   "output_path": "__notebook__.ipynb",
   "parameters": {},
   "start_time": "2022-12-30T00:24:13.213154",
   "version": "2.3.4"
  }
 },
 "nbformat": 4,
 "nbformat_minor": 5
}
